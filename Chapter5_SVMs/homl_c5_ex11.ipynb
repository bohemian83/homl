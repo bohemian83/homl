{
 "cells": [
  {
   "cell_type": "code",
   "execution_count": 1,
   "metadata": {},
   "outputs": [],
   "source": [
    "import pandas as pd\n",
    "import matplotlib.pyplot as plt\n",
    "import numpy as np\n",
    "from sklearn import datasets\n",
    "from sklearn.model_selection import train_test_split\n",
    "\n",
    "housing = datasets.fetch_california_housing(as_frame=True)\n",
    "X_train, X_test, y_train, y_test = train_test_split(housing.data, housing.target, test_size=0.2, random_state=42)"
   ]
  },
  {
   "cell_type": "code",
   "execution_count": 2,
   "metadata": {},
   "outputs": [
    {
     "data": {
      "text/plain": [
       "(np.float64(0.73732884298049), np.float64(-0.4372320028365021))"
      ]
     },
     "execution_count": 2,
     "metadata": {},
     "output_type": "execute_result"
    }
   ],
   "source": [
    "from sklearn.svm import SVR, LinearSVR\n",
    "from sklearn.pipeline import make_pipeline\n",
    "from sklearn.preprocessing import StandardScaler\n",
    "from sklearn.model_selection import cross_val_score\n",
    "\n",
    "lin_svr_reg = make_pipeline(StandardScaler(), LinearSVR(max_iter=5000, random_state=42))\n",
    "svr_reg = make_pipeline(StandardScaler(), SVR())\n",
    "lin_svr_scores = cross_val_score(lin_svr_reg, X_train, y_train)\n",
    "svr_scores = cross_val_score(svr_reg, X_train, y_train)\n",
    "svr_scores.mean(), lin_svr_scores.mean()"
   ]
  },
  {
   "cell_type": "code",
   "execution_count": null,
   "metadata": {},
   "outputs": [
    {
     "data": {
      "text/plain": [
       "np.float64(0.9795654478293888)"
      ]
     },
     "execution_count": 10,
     "metadata": {},
     "output_type": "execute_result"
    }
   ],
   "source": [
    "from sklearn.metrics import root_mean_squared_error\n",
    "\n",
    "lin_svr_reg.fit(X_train, y_train)\n",
    "y_pred = lin_svr_reg.predict(X_train)\n",
    "mse = root_mean_squared_error(y_train, y_pred)\n",
    "mse"
   ]
  },
  {
   "cell_type": "code",
   "execution_count": 4,
   "metadata": {},
   "outputs": [
    {
     "data": {
      "text/plain": [
       "(Pipeline(steps=[('standardscaler', StandardScaler()),\n",
       "                 ('svr',\n",
       "                  SVR(C=np.float64(6.380199280679454),\n",
       "                      epsilon=np.float64(0.18522156381258137)))]),\n",
       " np.float64(0.7614711229087457))"
      ]
     },
     "execution_count": 4,
     "metadata": {},
     "output_type": "execute_result"
    }
   ],
   "source": [
    "from sklearn.model_selection import RandomizedSearchCV\n",
    "from sklearn.model_selection import GridSearchCV\n",
    "from scipy.stats import uniform, randint, loguniform\n",
    "\n",
    "params = {\n",
    "    'svr__kernel': ['poly', 'rbf'], \n",
    "    'svr__C': uniform(1, 10),\n",
    "    'svr__epsilon': loguniform(0.1, 5), \n",
    "}\n",
    "\n",
    "svr_rnd_search = RandomizedSearchCV(svr_reg, param_distributions=params, n_iter=100)\n",
    "svr_rnd_search.fit(X_train.iloc[:2000,:], y_train.iloc[:2000])\n",
    "svr_rnd_search.best_estimator_, svr_rnd_search.best_score_,"
   ]
  },
  {
   "cell_type": "code",
   "execution_count": 5,
   "metadata": {},
   "outputs": [
    {
     "data": {
      "text/plain": [
       "array([0.57587797, 0.55721378, 0.56630829, 0.55830183, 0.58144002])"
      ]
     },
     "execution_count": 5,
     "metadata": {},
     "output_type": "execute_result"
    }
   ],
   "source": [
    "-cross_val_score(svr_rnd_search.best_estimator_, X_train, y_train, scoring=\"neg_root_mean_squared_error\")"
   ]
  },
  {
   "cell_type": "code",
   "execution_count": 13,
   "metadata": {},
   "outputs": [
    {
     "data": {
      "text/plain": [
       "np.float64(0.5811237682804774)"
      ]
     },
     "execution_count": 13,
     "metadata": {},
     "output_type": "execute_result"
    }
   ],
   "source": [
    "y_pred = svr_rnd_search.best_estimator_.predict(X_test)\n",
    "rmse = root_mean_squared_error(y_test, y_pred)\n",
    "rmse"
   ]
  }
 ],
 "metadata": {
  "kernelspec": {
   "display_name": "homl-venv-313",
   "language": "python",
   "name": "python3"
  },
  "language_info": {
   "codemirror_mode": {
    "name": "ipython",
    "version": 3
   },
   "file_extension": ".py",
   "mimetype": "text/x-python",
   "name": "python",
   "nbconvert_exporter": "python",
   "pygments_lexer": "ipython3",
   "version": "3.13.0"
  },
  "orig_nbformat": 4
 },
 "nbformat": 4,
 "nbformat_minor": 2
}
