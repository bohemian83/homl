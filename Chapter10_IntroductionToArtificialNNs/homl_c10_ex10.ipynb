{
 "cells": [
  {
   "cell_type": "code",
   "execution_count": 76,
   "metadata": {},
   "outputs": [
    {
     "data": {
      "text/plain": [
       "<matplotlib.image.AxesImage at 0x2a8a666acd0>"
      ]
     },
     "execution_count": 76,
     "metadata": {},
     "output_type": "execute_result"
    },
    {
     "data": {
      "image/png": "[encoded data removed]",
      "text/plain": [
       "<Figure size 100x100 with 1 Axes>"
      ]
     },
     "metadata": {},
     "output_type": "display_data"
    }
   ],
   "source": [
    "import pandas as pd\n",
    "import tensorflow as tf\n",
    "import matplotlib.pyplot as plt\n",
    "\n",
    "(X_train_full, y_train_full), (X_test, y_test) = tf.keras.datasets.mnist.load_data()\n",
    "X_train, y_train = X_train_full[:-5000], y_train_full[:-5000]\n",
    "X_val, y_val = X_train_full[-5000:], y_train_full[-5000:]\n",
    "X_train, X_val, X_test = X_train/255., X_val/255., X_test/255.\n",
    "\n",
    "plt.figure(figsize=(1,1))\n",
    "plt.imshow(X_train[0].reshape(28, 28), cmap='Greys', )"
   ]
  },
  {
   "cell_type": "code",
   "execution_count": 77,
   "metadata": {},
   "outputs": [],
   "source": [
    "import keras.backend as K\n",
    "\n",
    "class ExponentialLearningRate(tf.keras.callbacks.Callback):\n",
    "    def __init__(self, factor):\n",
    "        self.factor = factor\n",
    "        self.rates = []\n",
    "        self.losses = []\n",
    "    def on_batch_end(self, batch, logs):\n",
    "        self.rates.append(K.get_value(self.model.optimizer.learning_rate))\n",
    "        self.losses.append(logs[\"loss\"])\n",
    "        K.set_value(self.model.optimizer.learning_rate, self.model.optimizer.learning_rate * self.factor)\n",
    "\n",
    "tf.random.set_seed(42)\n",
    "\n",
    "model = tf.keras.Sequential([\n",
    "    tf.keras.layers.Flatten(input_shape=[28,28]),\n",
    "    tf.keras.layers.Dense(300, activation='relu'), \n",
    "    tf.keras.layers.Dense(150, activation='relu'),\n",
    "    tf.keras.layers.Dense(20, activation='softmax')\n",
    "])\n",
    "\n",
    "optimizer = tf.keras.optimizers.SGD(learning_rate=0.001)\n",
    "model.compile(loss='sparse_categorical_crossentropy', optimizer=optimizer, metrics=['accuracy'])\n",
    "expo_lr = ExponentialLearningRate(1.005)\n"
   ]
  },
  {
   "cell_type": "code",
   "execution_count": 78,
   "metadata": {},
   "outputs": [
    {
     "name": "stdout",
     "output_type": "stream",
     "text": [
      "1719/1719 [==============================] - 4s 2ms/step - loss: 22.6425 - accuracy: 0.5739 - val_loss: 2.3881 - val_accuracy: 0.1060\n"
     ]
    }
   ],
   "source": [
    "# Increase learning rate exponentially to find point where loss shoots up. Optimal learning rate is half of that value\n",
    "\n",
    "history = model.fit(X_train, y_train, epochs=1, validation_data=(X_val, y_val), callbacks=[expo_lr])"
   ]
  },
  {
   "cell_type": "code",
   "execution_count": 79,
   "metadata": {},
   "outputs": [
    {
     "data": {
      "text/plain": [
       "Text(0, 0.5, 'Loss')"
      ]
     },
     "execution_count": 79,
     "metadata": {},
     "output_type": "execute_result"
    },
    {
     "data": {
      "image/png": "[encoded data removed]",
      "text/plain": [
       "<Figure size 640x480 with 1 Axes>"
      ]
     },
     "metadata": {},
     "output_type": "display_data"
    }
   ],
   "source": [
    "plt.plot(expo_lr.rates, expo_lr.losses)\n",
    "plt.gca().set_xscale('log')\n",
    "plt.hlines(min(expo_lr.losses), min(expo_lr.rates), max(expo_lr.rates))\n",
    "plt.axis([min(expo_lr.rates), max(expo_lr.rates), 0, expo_lr.losses[0]])\n",
    "plt.grid()\n",
    "plt.xlabel(\"Learning rate\")\n",
    "plt.ylabel(\"Loss\")"
   ]
  },
  {
   "cell_type": "code",
   "execution_count": 82,
   "metadata": {},
   "outputs": [
    {
     "name": "stdout",
     "output_type": "stream",
     "text": [
      "Epoch 1/30\n",
      "1719/1719 [==============================] - 3s 2ms/step - loss: 0.2346 - accuracy: 0.9270 - val_loss: 0.1072 - val_accuracy: 0.9664\n",
      "Epoch 2/30\n",
      "1719/1719 [==============================] - 3s 2ms/step - loss: 0.0941 - accuracy: 0.9708 - val_loss: 0.0800 - val_accuracy: 0.9768\n",
      "Epoch 3/30\n",
      "1719/1719 [==============================] - 3s 2ms/step - loss: 0.0682 - accuracy: 0.9785 - val_loss: 0.0807 - val_accuracy: 0.9774\n",
      "Epoch 4/30\n",
      "1719/1719 [==============================] - 3s 2ms/step - loss: 0.0495 - accuracy: 0.9835 - val_loss: 0.0739 - val_accuracy: 0.9778\n",
      "Epoch 5/30\n",
      "1719/1719 [==============================] - 3s 2ms/step - loss: 0.0360 - accuracy: 0.9880 - val_loss: 0.0717 - val_accuracy: 0.9832\n",
      "Epoch 6/30\n",
      "1719/1719 [==============================] - 3s 2ms/step - loss: 0.0286 - accuracy: 0.9903 - val_loss: 0.0944 - val_accuracy: 0.9758\n",
      "Epoch 7/30\n",
      "1719/1719 [==============================] - 3s 2ms/step - loss: 0.0223 - accuracy: 0.9928 - val_loss: 0.0833 - val_accuracy: 0.9816\n",
      "Epoch 8/30\n",
      "1719/1719 [==============================] - 3s 2ms/step - loss: 0.0204 - accuracy: 0.9931 - val_loss: 0.0759 - val_accuracy: 0.9844\n",
      "Epoch 9/30\n",
      "1719/1719 [==============================] - 3s 2ms/step - loss: 0.0153 - accuracy: 0.9950 - val_loss: 0.1059 - val_accuracy: 0.9762\n",
      "Epoch 10/30\n",
      "1719/1719 [==============================] - 3s 2ms/step - loss: 0.0149 - accuracy: 0.9953 - val_loss: 0.0881 - val_accuracy: 0.9814\n",
      "Epoch 11/30\n",
      "1719/1719 [==============================] - 3s 2ms/step - loss: 0.0121 - accuracy: 0.9961 - val_loss: 0.0774 - val_accuracy: 0.9828\n",
      "Epoch 12/30\n",
      "1719/1719 [==============================] - 3s 2ms/step - loss: 0.0104 - accuracy: 0.9968 - val_loss: 0.0908 - val_accuracy: 0.9804\n",
      "Epoch 13/30\n",
      "1719/1719 [==============================] - 3s 2ms/step - loss: 0.0082 - accuracy: 0.9974 - val_loss: 0.0798 - val_accuracy: 0.9842\n",
      "Epoch 14/30\n",
      "1719/1719 [==============================] - 3s 2ms/step - loss: 0.0069 - accuracy: 0.9977 - val_loss: 0.1083 - val_accuracy: 0.9788\n",
      "Epoch 15/30\n",
      "1719/1719 [==============================] - 3s 2ms/step - loss: 0.0050 - accuracy: 0.9985 - val_loss: 0.0909 - val_accuracy: 0.9832\n",
      "Epoch 16/30\n",
      "1719/1719 [==============================] - 3s 2ms/step - loss: 0.0098 - accuracy: 0.9971 - val_loss: 0.0944 - val_accuracy: 0.9840\n",
      "Epoch 17/30\n",
      "1719/1719 [==============================] - 3s 2ms/step - loss: 0.0041 - accuracy: 0.9988 - val_loss: 0.0835 - val_accuracy: 0.9846\n",
      "Epoch 18/30\n",
      "1719/1719 [==============================] - 3s 2ms/step - loss: 6.5371e-04 - accuracy: 0.9999 - val_loss: 0.0852 - val_accuracy: 0.9862\n",
      "Epoch 19/30\n",
      "1719/1719 [==============================] - 3s 2ms/step - loss: 1.5026e-04 - accuracy: 1.0000 - val_loss: 0.0860 - val_accuracy: 0.9864\n",
      "Epoch 20/30\n",
      "1719/1719 [==============================] - 3s 2ms/step - loss: 8.5560e-05 - accuracy: 1.0000 - val_loss: 0.0877 - val_accuracy: 0.9858\n",
      "Epoch 21/30\n",
      "1719/1719 [==============================] - 3s 2ms/step - loss: 6.9513e-05 - accuracy: 1.0000 - val_loss: 0.0882 - val_accuracy: 0.9864\n",
      "Epoch 22/30\n",
      "1719/1719 [==============================] - 3s 2ms/step - loss: 5.9670e-05 - accuracy: 1.0000 - val_loss: 0.0889 - val_accuracy: 0.9860\n",
      "Epoch 23/30\n",
      "1719/1719 [==============================] - 3s 2ms/step - loss: 5.2855e-05 - accuracy: 1.0000 - val_loss: 0.0895 - val_accuracy: 0.9862\n",
      "Epoch 24/30\n",
      "1719/1719 [==============================] - 3s 2ms/step - loss: 4.7567e-05 - accuracy: 1.0000 - val_loss: 0.0900 - val_accuracy: 0.9862\n",
      "Epoch 25/30\n",
      "1719/1719 [==============================] - 3s 2ms/step - loss: 4.3434e-05 - accuracy: 1.0000 - val_loss: 0.0908 - val_accuracy: 0.9860\n",
      "Epoch 26/30\n",
      "1719/1719 [==============================] - 3s 2ms/step - loss: 3.9941e-05 - accuracy: 1.0000 - val_loss: 0.0911 - val_accuracy: 0.9858\n",
      "Epoch 27/30\n",
      "1719/1719 [==============================] - 3s 2ms/step - loss: 3.7163e-05 - accuracy: 1.0000 - val_loss: 0.0916 - val_accuracy: 0.9858\n",
      "Epoch 28/30\n",
      "1719/1719 [==============================] - 3s 2ms/step - loss: 3.4716e-05 - accuracy: 1.0000 - val_loss: 0.0921 - val_accuracy: 0.9858\n",
      "Epoch 29/30\n",
      "1719/1719 [==============================] - 3s 2ms/step - loss: 3.2611e-05 - accuracy: 1.0000 - val_loss: 0.0925 - val_accuracy: 0.9860\n",
      "Epoch 30/30\n",
      "1719/1719 [==============================] - 3s 2ms/step - loss: 3.0709e-05 - accuracy: 1.0000 - val_loss: 0.0929 - val_accuracy: 0.9860\n"
     ]
    }
   ],
   "source": [
    "# Redefine and retrain model with optimal learning rate. \n",
    "\n",
    "tf.keras.backend.clear_session()\n",
    "model = tf.keras.Sequential([\n",
    "    tf.keras.layers.Flatten(input_shape=[28, 28]),\n",
    "    tf.keras.layers.Dense(300, activation=\"relu\"),\n",
    "    tf.keras.layers.Dense(100, activation=\"relu\"),\n",
    "    tf.keras.layers.Dense(10, activation=\"softmax\")\n",
    "])\n",
    "optimizer = tf.keras.optimizers.SGD(learning_rate=3e-1)\n",
    "model.compile(loss=\"sparse_categorical_crossentropy\", optimizer=optimizer, metrics=[\"accuracy\"])\n",
    "history = model.fit(X_train, y_train, epochs=30, validation_data=(X_val, y_val))"
   ]
  },
  {
   "cell_type": "code",
   "execution_count": 83,
   "metadata": {},
   "outputs": [
    {
     "name": "stdout",
     "output_type": "stream",
     "text": [
      "313/313 [==============================] - 0s 1ms/step - loss: 0.0750 - accuracy: 0.9868\n"
     ]
    },
    {
     "data": {
      "text/plain": [
       "[0.07501762360334396, 0.9868000149726868]"
      ]
     },
     "execution_count": 83,
     "metadata": {},
     "output_type": "execute_result"
    }
   ],
   "source": [
    "# Evaluate model with optimal training rate\n",
    "model.evaluate(X_test, y_test)"
   ]
  },
  {
   "cell_type": "code",
   "execution_count": 85,
   "metadata": {},
   "outputs": [
    {
     "name": "stdout",
     "output_type": "stream",
     "text": [
      "Epoch 1/100\n",
      "1712/1719 [============================>.] - ETA: 0s - loss: 0.2359 - accuracy: 0.9274"
     ]
    },
    {
     "name": "stderr",
     "output_type": "stream",
     "text": [
      "WARNING:absl:Found untraced functions such as _update_step_xla while saving (showing 1 of 1). These functions will not be directly callable after loading.\n"
     ]
    },
    {
     "name": "stdout",
     "output_type": "stream",
     "text": [
      "INFO:tensorflow:Assets written to: ./save_model\\mnist_model\\assets\n"
     ]
    },
    {
     "name": "stderr",
     "output_type": "stream",
     "text": [
      "INFO:tensorflow:Assets written to: ./save_model\\mnist_model\\assets\n"
     ]
    },
    {
     "name": "stdout",
     "output_type": "stream",
     "text": [
      "1719/1719 [==============================] - 4s 2ms/step - loss: 0.2356 - accuracy: 0.9275 - val_loss: 0.0954 - val_accuracy: 0.9694\n",
      "Epoch 2/100\n",
      "1699/1719 [============================>.] - ETA: 0s - loss: 0.0953 - accuracy: 0.9708"
     ]
    },
    {
     "name": "stderr",
     "output_type": "stream",
     "text": [
      "WARNING:absl:Found untraced functions such as _update_step_xla while saving (showing 1 of 1). These functions will not be directly callable after loading.\n"
     ]
    },
    {
     "name": "stdout",
     "output_type": "stream",
     "text": [
      "INFO:tensorflow:Assets written to: ./save_model\\mnist_model\\assets\n"
     ]
    },
    {
     "name": "stderr",
     "output_type": "stream",
     "text": [
      "INFO:tensorflow:Assets written to: ./save_model\\mnist_model\\assets\n"
     ]
    },
    {
     "name": "stdout",
     "output_type": "stream",
     "text": [
      "1719/1719 [==============================] - 4s 2ms/step - loss: 0.0954 - accuracy: 0.9707 - val_loss: 0.0839 - val_accuracy: 0.9748\n",
      "Epoch 3/100\n",
      "1717/1719 [============================>.] - ETA: 0s - loss: 0.0661 - accuracy: 0.9785"
     ]
    },
    {
     "name": "stderr",
     "output_type": "stream",
     "text": [
      "WARNING:absl:Found untraced functions such as _update_step_xla while saving (showing 1 of 1). These functions will not be directly callable after loading.\n"
     ]
    },
    {
     "name": "stdout",
     "output_type": "stream",
     "text": [
      "INFO:tensorflow:Assets written to: ./save_model\\mnist_model\\assets\n"
     ]
    },
    {
     "name": "stderr",
     "output_type": "stream",
     "text": [
      "INFO:tensorflow:Assets written to: ./save_model\\mnist_model\\assets\n"
     ]
    },
    {
     "name": "stdout",
     "output_type": "stream",
     "text": [
      "1719/1719 [==============================] - 4s 2ms/step - loss: 0.0661 - accuracy: 0.9785 - val_loss: 0.0754 - val_accuracy: 0.9806\n",
      "Epoch 4/100\n",
      "1694/1719 [============================>.] - ETA: 0s - loss: 0.0490 - accuracy: 0.9840"
     ]
    },
    {
     "name": "stderr",
     "output_type": "stream",
     "text": [
      "WARNING:absl:Found untraced functions such as _update_step_xla while saving (showing 1 of 1). These functions will not be directly callable after loading.\n"
     ]
    },
    {
     "name": "stdout",
     "output_type": "stream",
     "text": [
      "INFO:tensorflow:Assets written to: ./save_model\\mnist_model\\assets\n"
     ]
    },
    {
     "name": "stderr",
     "output_type": "stream",
     "text": [
      "INFO:tensorflow:Assets written to: ./save_model\\mnist_model\\assets\n"
     ]
    },
    {
     "name": "stdout",
     "output_type": "stream",
     "text": [
      "1719/1719 [==============================] - 4s 2ms/step - loss: 0.0493 - accuracy: 0.9839 - val_loss: 0.0697 - val_accuracy: 0.9788\n",
      "Epoch 5/100\n",
      "1700/1719 [============================>.] - ETA: 0s - loss: 0.0354 - accuracy: 0.9885"
     ]
    },
    {
     "name": "stderr",
     "output_type": "stream",
     "text": [
      "WARNING:absl:Found untraced functions such as _update_step_xla while saving (showing 1 of 1). These functions will not be directly callable after loading.\n"
     ]
    },
    {
     "name": "stdout",
     "output_type": "stream",
     "text": [
      "INFO:tensorflow:Assets written to: ./save_model\\mnist_model\\assets\n"
     ]
    },
    {
     "name": "stderr",
     "output_type": "stream",
     "text": [
      "INFO:tensorflow:Assets written to: ./save_model\\mnist_model\\assets\n"
     ]
    },
    {
     "name": "stdout",
     "output_type": "stream",
     "text": [
      "1719/1719 [==============================] - 4s 3ms/step - loss: 0.0353 - accuracy: 0.9885 - val_loss: 0.0688 - val_accuracy: 0.9826\n",
      "Epoch 6/100\n",
      "1719/1719 [==============================] - 4s 2ms/step - loss: 0.0285 - accuracy: 0.9909 - val_loss: 0.1058 - val_accuracy: 0.9754\n",
      "Epoch 7/100\n",
      "1719/1719 [==============================] - 4s 2ms/step - loss: 0.0246 - accuracy: 0.9919 - val_loss: 0.0706 - val_accuracy: 0.9820\n",
      "Epoch 8/100\n",
      "1719/1719 [==============================] - 4s 2ms/step - loss: 0.0207 - accuracy: 0.9931 - val_loss: 0.0817 - val_accuracy: 0.9792\n",
      "Epoch 9/100\n",
      "1719/1719 [==============================] - 5s 3ms/step - loss: 0.0142 - accuracy: 0.9954 - val_loss: 0.0857 - val_accuracy: 0.9814\n",
      "Epoch 10/100\n",
      "1719/1719 [==============================] - 6s 3ms/step - loss: 0.0119 - accuracy: 0.9962 - val_loss: 0.0841 - val_accuracy: 0.9824\n",
      "Epoch 11/100\n",
      "1719/1719 [==============================] - 6s 3ms/step - loss: 0.0110 - accuracy: 0.9963 - val_loss: 0.0904 - val_accuracy: 0.9804\n",
      "Epoch 12/100\n",
      "1719/1719 [==============================] - 6s 3ms/step - loss: 0.0048 - accuracy: 0.9986 - val_loss: 0.0834 - val_accuracy: 0.9800\n",
      "Epoch 13/100\n",
      "1719/1719 [==============================] - 6s 3ms/step - loss: 0.0035 - accuracy: 0.9989 - val_loss: 0.0989 - val_accuracy: 0.9810\n",
      "Epoch 14/100\n",
      "1719/1719 [==============================] - 6s 3ms/step - loss: 0.0023 - accuracy: 0.9993 - val_loss: 0.0964 - val_accuracy: 0.9836\n",
      "Epoch 15/100\n",
      "1719/1719 [==============================] - 5s 3ms/step - loss: 0.0018 - accuracy: 0.9996 - val_loss: 0.0866 - val_accuracy: 0.9826\n",
      "Epoch 16/100\n",
      "1719/1719 [==============================] - 5s 3ms/step - loss: 6.3627e-04 - accuracy: 0.9999 - val_loss: 0.0860 - val_accuracy: 0.9862\n",
      "Epoch 17/100\n",
      "1719/1719 [==============================] - 5s 3ms/step - loss: 1.3372e-04 - accuracy: 1.0000 - val_loss: 0.0882 - val_accuracy: 0.9850\n",
      "Epoch 18/100\n",
      "1719/1719 [==============================] - 5s 3ms/step - loss: 9.2808e-05 - accuracy: 1.0000 - val_loss: 0.0883 - val_accuracy: 0.9852\n",
      "Epoch 19/100\n",
      "1719/1719 [==============================] - 5s 3ms/step - loss: 7.3563e-05 - accuracy: 1.0000 - val_loss: 0.0890 - val_accuracy: 0.9854\n",
      "Epoch 20/100\n",
      "1719/1719 [==============================] - 5s 3ms/step - loss: 6.3821e-05 - accuracy: 1.0000 - val_loss: 0.0901 - val_accuracy: 0.9854\n",
      "Epoch 21/100\n",
      "1719/1719 [==============================] - 5s 3ms/step - loss: 5.7352e-05 - accuracy: 1.0000 - val_loss: 0.0904 - val_accuracy: 0.9856\n",
      "Epoch 22/100\n",
      "1719/1719 [==============================] - 5s 3ms/step - loss: 5.1979e-05 - accuracy: 1.0000 - val_loss: 0.0913 - val_accuracy: 0.9860\n",
      "Epoch 23/100\n",
      "1719/1719 [==============================] - 6s 3ms/step - loss: 4.7977e-05 - accuracy: 1.0000 - val_loss: 0.0918 - val_accuracy: 0.9860\n",
      "Epoch 24/100\n",
      "1719/1719 [==============================] - 6s 3ms/step - loss: 4.4443e-05 - accuracy: 1.0000 - val_loss: 0.0923 - val_accuracy: 0.9860\n",
      "Epoch 25/100\n",
      "1719/1719 [==============================] - 5s 3ms/step - loss: 4.1509e-05 - accuracy: 1.0000 - val_loss: 0.0929 - val_accuracy: 0.9860\n"
     ]
    }
   ],
   "source": [
    "# Add hyperparameter tuning: save checkpoints, early stopping and tensorboard plots\n",
    "\n",
    "from pathlib import Path\n",
    "root_logdir = Path(\"./save_model/\")\n",
    "early_stopping = tf.keras.callbacks.EarlyStopping(patience=20)\n",
    "save_checkpoints = tf.keras.callbacks.ModelCheckpoint(\"./save_model/mnist_model\", save_best_only=True)\n",
    "tensorboard_cb = tf.keras.callbacks.TensorBoard()\n",
    "\n",
    "tf.keras.backend.clear_session()\n",
    "model = tf.keras.Sequential([\n",
    "    tf.keras.layers.Flatten(input_shape=[28, 28]),\n",
    "    tf.keras.layers.Dense(300, activation=\"relu\"),\n",
    "    tf.keras.layers.Dense(100, activation=\"relu\"),\n",
    "    tf.keras.layers.Dense(10, activation=\"softmax\")\n",
    "])\n",
    "optimizer = tf.keras.optimizers.SGD(learning_rate=3e-1)\n",
    "model.compile(loss=\"sparse_categorical_crossentropy\", optimizer=optimizer, metrics=[\"accuracy\"])\n",
    "history = model.fit(X_train, y_train, epochs=100, validation_data=(X_val, y_val), callbacks=[early_stopping, tensorboard_cb, save_checkpoints])"
   ]
  },
  {
   "cell_type": "code",
   "execution_count": 86,
   "metadata": {},
   "outputs": [
    {
     "name": "stdout",
     "output_type": "stream",
     "text": [
      "313/313 [==============================] - 1s 2ms/step - loss: 0.0825 - accuracy: 0.9854\n"
     ]
    },
    {
     "data": {
      "text/plain": [
       "[0.08251676708459854, 0.9854000210762024]"
      ]
     },
     "execution_count": 86,
     "metadata": {},
     "output_type": "execute_result"
    }
   ],
   "source": [
    "model.evaluate(X_test, y_test)"
   ]
  }
 ],
 "metadata": {
  "kernelspec": {
   "display_name": "homl-venv",
   "language": "python",
   "name": "python3"
  },
  "language_info": {
   "codemirror_mode": {
    "name": "ipython",
    "version": 3
   },
   "file_extension": ".py",
   "mimetype": "text/x-python",
   "name": "python",
   "nbconvert_exporter": "python",
   "pygments_lexer": "ipython3",
   "version": "3.11.2"
  },
  "orig_nbformat": 4
 },
 "nbformat": 4,
 "nbformat_minor": 2
}
