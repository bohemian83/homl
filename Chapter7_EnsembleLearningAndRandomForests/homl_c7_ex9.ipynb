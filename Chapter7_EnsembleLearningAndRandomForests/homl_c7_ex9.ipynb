{
 "cells": [
  {
   "cell_type": "code",
   "execution_count": 48,
   "metadata": {},
   "outputs": [],
   "source": [
    "import pandas as pd\n",
    "import matplotlib.pyplot as plt\n",
    "import numpy as np\n",
    "from sklearn.datasets import fetch_openml\n",
    "\n",
    "mnist = fetch_openml('mnist_784', as_frame=False, parser='auto')\n",
    "X, y = mnist.data, mnist.target\n",
    "X_train, X_val, X_test, y_train, y_val, y_test =  X[:50000], X[50000:60000], X[60000:], y[:50000], y[50000:60000], y[60000:]"
   ]
  },
  {
   "cell_type": "code",
   "execution_count": 49,
   "metadata": {},
   "outputs": [
    {
     "name": "stdout",
     "output_type": "stream",
     "text": [
      "Training estimator:  RandomForestClassifier()\n",
      "Training estimator:  ExtraTreesClassifier()\n",
      "Training estimator:  MLPClassifier()\n"
     ]
    },
    {
     "data": {
      "text/plain": [
       "[0.9719, 0.9745, 0.9658]"
      ]
     },
     "execution_count": 49,
     "metadata": {},
     "output_type": "execute_result"
    }
   ],
   "source": [
    "from sklearn.ensemble import RandomForestClassifier, ExtraTreesClassifier\n",
    "from sklearn.neural_network import MLPClassifier\n",
    "\n",
    "rnd_fst_clf = RandomForestClassifier(n_estimators=100)\n",
    "extra_tree_clf = ExtraTreesClassifier(n_estimators=100)\n",
    "mlp_clf = MLPClassifier()\n",
    "\n",
    "estimators = [rnd_fst_clf, extra_tree_clf, mlp_clf]\n",
    "blender_train_set = np.empty((len(X_val), len(estimators)), dtype=object)\n",
    "for estimator in estimators:\n",
    "    print('Training estimator: ', estimator)\n",
    "    estimator.fit(X_train, y_train)\n",
    "    \n",
    "[estimator.score(X_val, y_val) for estimator in estimators]"
   ]
  },
  {
   "cell_type": "code",
   "execution_count": 50,
   "metadata": {},
   "outputs": [
    {
     "data": {
      "text/plain": [
       "0.9765"
      ]
     },
     "execution_count": 50,
     "metadata": {},
     "output_type": "execute_result"
    }
   ],
   "source": [
    "from sklearn.ensemble import StackingClassifier, VotingClassifier\n",
    "\n",
    "est = [\n",
    "    ('rnd_fst', rnd_fst_clf),\n",
    "    ('extra', extra_tree_clf), \n",
    "    ('mlp', mlp_clf)]\n",
    "\n",
    "voting_clf = VotingClassifier(est)\n",
    "voting_clf.fit(X_train, y_train)\n",
    "y_val_encoded = y_val.astype(np.int64)\n",
    "voting_clf.score(X_val, y_val), [estimator.score(X_val, y_val_encoded) for estimator in voting_clf.estimators_] "
   ]
  },
  {
   "cell_type": "code",
   "execution_count": 52,
   "metadata": {},
   "outputs": [
    {
     "data": {
      "text/plain": [
       "(0.9735, [0.9684, 0.9715, 0.964])"
      ]
     },
     "execution_count": 52,
     "metadata": {},
     "output_type": "execute_result"
    }
   ],
   "source": [
    "voting_clf.score(X_test, y_test), [estimator.score(X_test, y_test.astype(np.int64)) for estimator in voting_clf.estimators_]"
   ]
  },
  {
   "cell_type": "code",
   "execution_count": 56,
   "metadata": {},
   "outputs": [
    {
     "data": {
      "text/plain": [
       "array([['3', '3', '3'],\n",
       "       ['8', '8', '8'],\n",
       "       ['6', '6', '6'],\n",
       "       ...,\n",
       "       ['5', '5', '5'],\n",
       "       ['6', '6', '6'],\n",
       "       ['8', '8', '8']], dtype=object)"
      ]
     },
     "execution_count": 56,
     "metadata": {},
     "output_type": "execute_result"
    }
   ],
   "source": [
    "blender_pred_set = np.empty((len(X_val), len(estimators)), dtype=object)\n",
    "\n",
    "for index, estimator in enumerate(estimators):\n",
    "    blender_pred_set[:, index] = estimator.predict(X_val)\n",
    "\n",
    "blender_pred_set"
   ]
  },
  {
   "cell_type": "code",
   "execution_count": 57,
   "metadata": {},
   "outputs": [
    {
     "data": {
      "text/plain": [
       "0.9707"
      ]
     },
     "execution_count": 57,
     "metadata": {},
     "output_type": "execute_result"
    }
   ],
   "source": [
    "rnd_forest_blender = RandomForestClassifier(n_estimators=200, oob_score=True)\n",
    "rnd_forest_blender.fit(blender_pred_set, y_val)\n",
    "rnd_forest_blender.oob_score_"
   ]
  },
  {
   "cell_type": "code",
   "execution_count": 58,
   "metadata": {},
   "outputs": [
    {
     "data": {
      "text/plain": [
       "0.9682"
      ]
     },
     "execution_count": 58,
     "metadata": {},
     "output_type": "execute_result"
    }
   ],
   "source": [
    "from sklearn.metrics import accuracy_score\n",
    "\n",
    "blender_test_pred = np.empty((len(X_test), len(estimators)), dtype=object)\n",
    "\n",
    "for index, estimator in enumerate(estimators):\n",
    "    blender_test_pred[:, index] = estimator.predict(X_test)\n",
    "    \n",
    "y_pred = rnd_forest_blender.predict(blender_test_pred)\n",
    "accuracy_score(y_test, y_pred)"
   ]
  },
  {
   "cell_type": "code",
   "execution_count": 59,
   "metadata": {},
   "outputs": [
    {
     "data": {
      "text/plain": [
       "0.9773"
      ]
     },
     "execution_count": 59,
     "metadata": {},
     "output_type": "execute_result"
    }
   ],
   "source": [
    "X_train_full, y_train_full = X[:60_000], y[:60_000]\n",
    "stack_clf = StackingClassifier(est, final_estimator=rnd_forest_blender)\n",
    "stack_clf.fit(X_train_full, y_train_full)\n",
    "stack_clf.score(X_test, y_test)"
   ]
  }
 ],
 "metadata": {
  "kernelspec": {
   "display_name": "homl-venv",
   "language": "python",
   "name": "python3"
  },
  "language_info": {
   "codemirror_mode": {
    "name": "ipython",
    "version": 3
   },
   "file_extension": ".py",
   "mimetype": "text/x-python",
   "name": "python",
   "nbconvert_exporter": "python",
   "pygments_lexer": "ipython3",
   "version": "3.11.2"
  },
  "orig_nbformat": 4
 },
 "nbformat": 4,
 "nbformat_minor": 2
}
