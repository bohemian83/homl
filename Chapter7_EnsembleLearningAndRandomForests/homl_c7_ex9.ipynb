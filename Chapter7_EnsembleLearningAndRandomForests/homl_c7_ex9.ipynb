{
 "cells": [
  {
   "cell_type": "code",
   "execution_count": 1,
   "metadata": {},
   "outputs": [],
   "source": [
    "import pandas as pd\n",
    "import matplotlib.pyplot as plt\n",
    "import numpy as np\n",
    "from sklearn.datasets import fetch_openml\n",
    "\n",
    "mnist = fetch_openml('mnist_784', as_frame=False, parser='auto')\n",
    "X, y = mnist.data, mnist.target\n",
    "X_train, X_val, X_test, y_train, y_val, y_test =  X[:50000], X[50000:60000], X[60000:], y[:50000], y[50000:60000], y[60000:]"
   ]
  },
  {
   "cell_type": "code",
   "execution_count": 15,
   "metadata": {},
   "outputs": [
    {
     "name": "stdout",
     "output_type": "stream",
     "text": [
      "Training estimator:  RandomForestClassifier()\n",
      "Training estimator:  ExtraTreesClassifier()\n",
      "Training estimator:  MLPClassifier()\n"
     ]
    },
    {
     "data": {
      "text/plain": [
       "[0.9721, 0.9757, 0.9653]"
      ]
     },
     "execution_count": 15,
     "metadata": {},
     "output_type": "execute_result"
    }
   ],
   "source": [
    "from sklearn.svm import SVC, LinearSVC\n",
    "from sklearn.ensemble import RandomForestClassifier, ExtraTreesClassifier\n",
    "from sklearn.neural_network import MLPClassifier\n",
    "\n",
    "rnd_fst_clf = RandomForestClassifier(n_estimators=100)\n",
    "extra_tree_clf = ExtraTreesClassifier(n_estimators=100)\n",
    "mlp_clf = MLPClassifier()\n",
    "\n",
    "estimators = [rnd_fst_clf, extra_tree_clf, mlp_clf]\n",
    "blender_train_set = np.ndarray([])\n",
    "blender_train_labels = np.ndarray([])\n",
    "for estimator in estimators:\n",
    "    print('Training estimator: ', estimator)\n",
    "    estimator.fit(X_train, y_train)\n",
    "    blender_train_set = np.append(blender_train_set, estimator.predict(X_val))\n",
    "    blender_train_labels = np.append(blender_train_labels, y_val)\n",
    "    \n",
    "[estimator.score(X_val, y_val) for estimator in estimators]"
   ]
  },
  {
   "cell_type": "code",
   "execution_count": 25,
   "metadata": {},
   "outputs": [],
   "source": [
    "blender_train_set, blender_train_labels = np.delete(blender_train_set, [0]), np.delete(blender_train_labels, [0])"
   ]
  },
  {
   "cell_type": "code",
   "execution_count": 49,
   "metadata": {},
   "outputs": [
    {
     "name": "stderr",
     "output_type": "stream",
     "text": [
      "f:\\Projects\\Coding-RasPi\\HOML\\homl-venv\\Lib\\site-packages\\sklearn\\svm\\_base.py:1244: ConvergenceWarning: Liblinear failed to converge, increase the number of iterations.\n",
      "  warnings.warn(\n"
     ]
    },
    {
     "data": {
      "text/plain": [
       "0.9758"
      ]
     },
     "execution_count": 49,
     "metadata": {},
     "output_type": "execute_result"
    }
   ],
   "source": [
    "from sklearn.ensemble import VotingClassifier\n",
    "\n",
    "est = [ \n",
    "    ('rnd_fst', rnd_fst_clf),\n",
    "    ('extra', extra_tree_clf), \n",
    "    ('mlp', mlp_clf)]\n",
    "\n",
    "voting_clf = VotingClassifier(est)\n",
    "voting_clf.fit(blender_train_set, blender_train_labels)"
   ]
  }
 ],
 "metadata": {
  "kernelspec": {
   "display_name": "homl-venv",
   "language": "python",
   "name": "python3"
  },
  "language_info": {
   "codemirror_mode": {
    "name": "ipython",
    "version": 3
   },
   "file_extension": ".py",
   "mimetype": "text/x-python",
   "name": "python",
   "nbconvert_exporter": "python",
   "pygments_lexer": "ipython3",
   "version": "3.11.2"
  },
  "orig_nbformat": 4
 },
 "nbformat": 4,
 "nbformat_minor": 2
}
