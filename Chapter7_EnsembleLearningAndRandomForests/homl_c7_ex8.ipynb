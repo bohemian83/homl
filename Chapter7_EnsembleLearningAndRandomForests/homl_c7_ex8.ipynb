{
 "cells": [
  {
   "cell_type": "code",
   "execution_count": 14,
   "metadata": {},
   "outputs": [],
   "source": [
    "import pandas as pd\n",
    "import matplotlib.pyplot as plt\n",
    "import numpy as np\n",
    "from sklearn.datasets import fetch_openml\n",
    "\n",
    "mnist = fetch_openml('mnist_784', as_frame=False, parser='auto')\n",
    "X, y = mnist.data, mnist.target\n",
    "X_train, X_val, X_test, y_train, y_val, y_test =  X[:50000], X[50000:60000], X[60000:], y[:50000], y[50000:60000], y[60000:]"
   ]
  },
  {
   "cell_type": "code",
   "execution_count": 20,
   "metadata": {},
   "outputs": [
    {
     "name": "stdout",
     "output_type": "stream",
     "text": [
      "Training estimator:  LinearSVC(max_iter=100)\n"
     ]
    },
    {
     "name": "stderr",
     "output_type": "stream",
     "text": [
      "f:\\Projects\\Coding-RasPi\\HOML\\homl-venv\\Lib\\site-packages\\sklearn\\svm\\_base.py:1244: ConvergenceWarning: Liblinear failed to converge, increase the number of iterations.\n",
      "  warnings.warn(\n"
     ]
    },
    {
     "name": "stdout",
     "output_type": "stream",
     "text": [
      "Training estimator:  RandomForestClassifier()\n",
      "Training estimator:  ExtraTreesClassifier()\n",
      "Training estimator:  MLPClassifier()\n"
     ]
    },
    {
     "data": {
      "text/plain": [
       "[0.8927, 0.9721, 0.9751, 0.967]"
      ]
     },
     "execution_count": 20,
     "metadata": {},
     "output_type": "execute_result"
    }
   ],
   "source": [
    "from sklearn.svm import SVC, LinearSVC\n",
    "from sklearn.ensemble import RandomForestClassifier, ExtraTreesClassifier\n",
    "from sklearn.neural_network import MLPClassifier\n",
    "\n",
    "svc_clf = LinearSVC(max_iter=100)\n",
    "rnd_fst_clf = RandomForestClassifier(n_estimators=100)\n",
    "extra_tree_clf = ExtraTreesClassifier(n_estimators=100)\n",
    "mlp_clf = MLPClassifier()\n",
    "\n",
    "estimators = [svc_clf, rnd_fst_clf, extra_tree_clf, mlp_clf]\n",
    "for estimator in estimators:\n",
    "    print('Training estimator: ', estimator)\n",
    "    estimator.fit(X_train, y_train)\n",
    "    \n",
    "[estimator.score(X_val, y_val) for estimator in estimators]"
   ]
  },
  {
   "cell_type": "code",
   "execution_count": 38,
   "metadata": {},
   "outputs": [
    {
     "name": "stderr",
     "output_type": "stream",
     "text": [
      "f:\\Projects\\Coding-RasPi\\HOML\\homl-venv\\Lib\\site-packages\\sklearn\\svm\\_base.py:299: ConvergenceWarning: Solver terminated early (max_iter=100).  Consider pre-processing your data with StandardScaler or MinMaxScaler.\n",
      "  warnings.warn(\n"
     ]
    },
    {
     "data": {
      "text/plain": [
       "0.9762"
      ]
     },
     "execution_count": 38,
     "metadata": {},
     "output_type": "execute_result"
    }
   ],
   "source": [
    "from sklearn.ensemble import StackingClassifier, VotingClassifier\n",
    "\n",
    "voting_clf = VotingClassifier(\n",
    "    estimators=[\n",
    "        ('rf', RandomForestClassifier(n_estimators=100)),\n",
    "        ('svc', SVC(max_iter=100)),\n",
    "        ('extra', ExtraTreesClassifier(n_estimators=100)),\n",
    "        ('mlp', MLPClassifier())\n",
    "    ]\n",
    ")\n",
    "voting_clf.voting = 'soft'\n",
    "voting_clf.named_estimators['svc'].probability = True\n",
    "voting_clf.fit(X_train, y_train)\n",
    "voting_clf.score(X_val, y_val)"
   ]
  },
  {
   "cell_type": "code",
   "execution_count": 39,
   "metadata": {},
   "outputs": [
    {
     "name": "stdout",
     "output_type": "stream",
     "text": [
      "rf = 0.0\n",
      "svc = 0.0\n",
      "extra = 0.0\n",
      "mlp = 0.0\n"
     ]
    }
   ],
   "source": [
    "for name, classifier in voting_clf.named_estimators_.items():\n",
    "    print(name, '=', classifier.score(X_val, y_val))"
   ]
  }
 ],
 "metadata": {
  "kernelspec": {
   "display_name": "homl-venv",
   "language": "python",
   "name": "python3"
  },
  "language_info": {
   "codemirror_mode": {
    "name": "ipython",
    "version": 3
   },
   "file_extension": ".py",
   "mimetype": "text/x-python",
   "name": "python",
   "nbconvert_exporter": "python",
   "pygments_lexer": "ipython3",
   "version": "3.11.2"
  },
  "orig_nbformat": 4
 },
 "nbformat": 4,
 "nbformat_minor": 2
}
