{
 "cells": [
  {
   "cell_type": "code",
   "execution_count": 3,
   "metadata": {},
   "outputs": [
    {
     "name": "stderr",
     "output_type": "stream",
     "text": [
      "/Users/pgrigorakis/Documents/HOML/homl-venv/lib/python3.9/site-packages/sklearn/datasets/_openml.py:968: FutureWarning: The default value of `parser` will change from `'liac-arff'` to `'auto'` in 1.4. You can set `parser='auto'` to silence this warning. Therefore, an `ImportError` will be raised from 1.4 if the dataset is dense and pandas is not installed. Note that the pandas parser may return different data types. See the Notes Section in fetch_openml's API doc for details.\n",
      "  warn(\n"
     ]
    }
   ],
   "source": [
    "import pandas as pd\n",
    "import matplotlib.pyplot as plt\n",
    "import numpy as np\n",
    "from sklearn.datasets import fetch_openml\n",
    "\n",
    "mnist = fetch_openml('mnist_784', as_frame=False)\n",
    "X, y = mnist.data, mnist.target\n",
    "X_train, X_val, X_test, y_train, y_val, y_test =  X[:50000], X[50000:60000], X[60000:], y[:50000], y[50000:60000], y[60000:]"
   ]
  },
  {
   "cell_type": "code",
   "execution_count": 6,
   "metadata": {},
   "outputs": [],
   "source": [
    "from sklearn.svm import SVC\n",
    "from sklearn.ensemble import RandomForestClassifier, ExtraTreesClassifier\n",
    "from sklearn.model_selection import GridSearchCV, RandomizedSearchCV\n",
    "from scipy.stats import uniform, loguniform\n",
    "\n",
    "n_iter = 200\n",
    "cv = 5\n",
    "\n",
    "svc_clf = SVC()\n",
    "rnd_fst_clf = RandomForestClassifier()\n",
    "extra_tree_clf = ExtraTreesClassifier()\n",
    "\n",
    "params_SVC = {\n",
    "    'gamma': loguniform(0.001, 0.1),\n",
    "    'C': uniform(1, 10)\n",
    "}\n",
    "params_rnd_fst = { \n",
    "                  'max_depth': list(range(1, 6)),\n",
    "                  'min_samples_split': [2, 3, 4],\n",
    "                  'max_leaf_nodes': list(range(2, 40)), \n",
    "                  'bootstrap': [True, False]\n",
    "               }\n",
    "params_extra_tree = {\n",
    "    'max_depth': list(range(1, 6)),\n",
    "    'min_samples_split': [2, 3, 4],\n",
    "    'max_leaf_nodes': list(range(2, 40)), \n",
    "    'bootstrap': [True, False]\n",
    "}\n",
    "\n",
    "svc_search = RandomizedSearchCV(SVC(), params_SVC, n_iter=n_iter, cv=cv)\n",
    "rnd_fst_search = RandomizedSearchCV(RandomForestClassifier(), params_rnd_fst, n_iter=n_iter, cv=cv)\n",
    "extra_tree_search = RandomizedSearchCV(ExtraTreesClassifier(), params_extra_tree, n_iter=n_iter, cv=cv)\n",
    "\n"
   ]
  },
  {
   "cell_type": "code",
   "execution_count": 7,
   "metadata": {},
   "outputs": [],
   "source": [
    "svc_search.fit(X_train, y_train)\n",
    "rnd_fst_search.fit(X_train, y_train)\n",
    "extra_tree_search.fit(X_train, y_train)"
   ]
  }
 ],
 "metadata": {
  "kernelspec": {
   "display_name": "homl-venv",
   "language": "python",
   "name": "python3"
  },
  "language_info": {
   "codemirror_mode": {
    "name": "ipython",
    "version": 3
   },
   "file_extension": ".py",
   "mimetype": "text/x-python",
   "name": "python",
   "nbconvert_exporter": "python",
   "pygments_lexer": "ipython3",
   "version": "3.9.9"
  },
  "orig_nbformat": 4
 },
 "nbformat": 4,
 "nbformat_minor": 2
}
