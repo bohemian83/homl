{
 "cells": [
  {
   "cell_type": "code",
   "execution_count": 40,
   "metadata": {},
   "outputs": [],
   "source": [
    "import pandas as pd\n",
    "import matplotlib.pyplot as plt\n",
    "import numpy as np\n",
    "from sklearn.datasets import fetch_openml\n",
    "\n",
    "mnist = fetch_openml('mnist_784', as_frame=False, parser='auto')\n",
    "X, y = mnist.data, mnist.target\n",
    "X_train, X_val, X_test, y_train, y_val, y_test =  X[:50000], X[50000:60000], X[60000:], y[:50000], y[50000:60000], y[60000:]"
   ]
  },
  {
   "cell_type": "code",
   "execution_count": 48,
   "metadata": {},
   "outputs": [
    {
     "name": "stdout",
     "output_type": "stream",
     "text": [
      "Training estimator:  LinearSVC(max_iter=100)\n"
     ]
    },
    {
     "name": "stderr",
     "output_type": "stream",
     "text": [
      "f:\\Projects\\Coding-RasPi\\HOML\\homl-venv\\Lib\\site-packages\\sklearn\\svm\\_base.py:1244: ConvergenceWarning: Liblinear failed to converge, increase the number of iterations.\n",
      "  warnings.warn(\n"
     ]
    },
    {
     "name": "stdout",
     "output_type": "stream",
     "text": [
      "Training estimator:  RandomForestClassifier()\n",
      "Training estimator:  ExtraTreesClassifier()\n",
      "Training estimator:  MLPClassifier()\n"
     ]
    },
    {
     "data": {
      "text/plain": [
       "[0.8831, 0.9723, 0.9736, 0.965]"
      ]
     },
     "execution_count": 48,
     "metadata": {},
     "output_type": "execute_result"
    }
   ],
   "source": [
    "from sklearn.svm import SVC, LinearSVC\n",
    "from sklearn.ensemble import RandomForestClassifier, ExtraTreesClassifier\n",
    "from sklearn.neural_network import MLPClassifier\n",
    "\n",
    "svc_clf = LinearSVC(max_iter=100)\n",
    "rnd_fst_clf = RandomForestClassifier(n_estimators=100)\n",
    "extra_tree_clf = ExtraTreesClassifier(n_estimators=100)\n",
    "mlp_clf = MLPClassifier()\n",
    "\n",
    "estimators = [svc_clf, rnd_fst_clf, extra_tree_clf, mlp_clf]\n",
    "for estimator in estimators:\n",
    "    print('Training estimator: ', estimator)\n",
    "    estimator.fit(X_train, y_train)\n",
    "    \n",
    "[estimator.score(X_val, y_val) for estimator in estimators]"
   ]
  },
  {
   "cell_type": "code",
   "execution_count": 49,
   "metadata": {},
   "outputs": [
    {
     "name": "stderr",
     "output_type": "stream",
     "text": [
      "f:\\Projects\\Coding-RasPi\\HOML\\homl-venv\\Lib\\site-packages\\sklearn\\svm\\_base.py:1244: ConvergenceWarning: Liblinear failed to converge, increase the number of iterations.\n",
      "  warnings.warn(\n"
     ]
    },
    {
     "data": {
      "text/plain": [
       "0.9758"
      ]
     },
     "execution_count": 49,
     "metadata": {},
     "output_type": "execute_result"
    }
   ],
   "source": [
    "from sklearn.ensemble import StackingClassifier, VotingClassifier\n",
    "\n",
    "est = [\n",
    "    ('svc', svc_clf), \n",
    "    ('rnd_fst', rnd_fst_clf),\n",
    "    ('extra', extra_tree_clf), \n",
    "    ('mlp', mlp_clf)]\n",
    "\n",
    "voting_clf = VotingClassifier(est)\n",
    "voting_clf.fit(X_train, y_train)\n",
    "voting_clf.score(X_val, y_val)"
   ]
  },
  {
   "cell_type": "code",
   "execution_count": 50,
   "metadata": {},
   "outputs": [
    {
     "data": {
      "text/plain": [
       "[0.8795, 0.9723, 0.9741, 0.9683]"
      ]
     },
     "execution_count": 50,
     "metadata": {},
     "output_type": "execute_result"
    }
   ],
   "source": [
    "y_val_encoded = y_val.astype(np.int64)\n",
    "[estimator.score(X_val, y_val_encoded) for estimator in voting_clf.estimators_]"
   ]
  },
  {
   "cell_type": "code",
   "execution_count": 57,
   "metadata": {},
   "outputs": [
    {
     "ename": "KeyError",
     "evalue": "'svc'",
     "output_type": "error",
     "traceback": [
      "\u001b[1;31m---------------------------------------------------------------------------\u001b[0m",
      "\u001b[1;31mKeyError\u001b[0m                                  Traceback (most recent call last)",
      "Cell \u001b[1;32mIn[57], line 1\u001b[0m\n\u001b[1;32m----> 1\u001b[0m svc_trained \u001b[39m=\u001b[39m voting_clf\u001b[39m.\u001b[39;49mnamed_estimators_\u001b[39m.\u001b[39;49mpop(\u001b[39m\"\u001b[39;49m\u001b[39msvc\u001b[39;49m\u001b[39m\"\u001b[39;49m)\n\u001b[0;32m      2\u001b[0m voting_clf\u001b[39m.\u001b[39mestimators_\u001b[39m.\u001b[39mremove(svc_trained)\n\u001b[0;32m      3\u001b[0m voting_clf\u001b[39m.\u001b[39mscore(X_valid, y_valid)\n",
      "\u001b[1;31mKeyError\u001b[0m: 'svc'"
     ]
    }
   ],
   "source": [
    "svc_trained = voting_clf.named_estimators_.pop(\"svc\")\n",
    "voting_clf.estimators_.remove(svc_trained)\n",
    "voting_clf.score(X_val, y_val)\n"
   ]
  },
  {
   "cell_type": "code",
   "execution_count": 60,
   "metadata": {},
   "outputs": [
    {
     "data": {
      "text/plain": [
       "0.9736"
      ]
     },
     "execution_count": 60,
     "metadata": {},
     "output_type": "execute_result"
    }
   ],
   "source": [
    "voting_clf.voting = \"soft\"\n",
    "voting_clf.score(X_val, y_val)"
   ]
  },
  {
   "cell_type": "code",
   "execution_count": 63,
   "metadata": {},
   "outputs": [
    {
     "data": {
      "text/plain": [
       "(0.973, [0.9677, 0.9705, 0.9659])"
      ]
     },
     "execution_count": 63,
     "metadata": {},
     "output_type": "execute_result"
    }
   ],
   "source": [
    "voting_clf.voting = 'hard'\n",
    "voting_clf.score(X_test, y_test), [estimator.score(X_test, y_test.astype(np.int64)) for estimator in voting_clf.estimators_]"
   ]
  }
 ],
 "metadata": {
  "kernelspec": {
   "display_name": "homl-venv",
   "language": "python",
   "name": "python3"
  },
  "language_info": {
   "codemirror_mode": {
    "name": "ipython",
    "version": 3
   },
   "file_extension": ".py",
   "mimetype": "text/x-python",
   "name": "python",
   "nbconvert_exporter": "python",
   "pygments_lexer": "ipython3",
   "version": "3.11.2"
  },
  "orig_nbformat": 4
 },
 "nbformat": 4,
 "nbformat_minor": 2
}
