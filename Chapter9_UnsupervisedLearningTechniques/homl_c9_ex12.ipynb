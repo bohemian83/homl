{
 "cells": [
  {
   "cell_type": "code",
   "execution_count": null,
   "metadata": {},
   "outputs": [],
   "source": [
    "import pandas as pd\n",
    "import matplotlib.pyplot as plt\n",
    "import numpy as np\n",
    "\n",
    "from sklearn.datasets import fetch_openml\n",
    "from sklearn.model_selection import train_test_split\n",
    "\n",
    "olivetti_faces = fetch_openml(\"olivetti_faces\", as_frame=False ,parser='auto')\n",
    "X, y = olivetti_faces.data, olivetti_faces.target\n",
    "X_train, X_test, y_train, y_test = train_test_split(X, y, test_size=40, stratify=y, random_state=42)\n",
    "X_train, X_val, y_train, y_val = train_test_split(X_train, y_train, test_size=80, stratify=y_train, random_state=43)"
   ]
  }
 ],
 "metadata": {
  "kernelspec": {
   "display_name": "homl-venv-3.11",
   "language": "python",
   "name": "python3"
  },
  "language_info": {
   "name": "python",
   "version": "3.11.3"
  },
  "orig_nbformat": 4
 },
 "nbformat": 4,
 "nbformat_minor": 2
}
