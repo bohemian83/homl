{
 "cells": [
  {
   "cell_type": "code",
   "execution_count": 1,
   "metadata": {},
   "outputs": [],
   "source": [
    "import json\n",
    "import numpy as np\n",
    "import tensorflow as tf"
   ]
  },
  {
   "cell_type": "code",
   "execution_count": 2,
   "metadata": {},
   "outputs": [],
   "source": [
    "def load_data(path, num_words=None, skip_top=0, seed=113):\n",
    "    with np.load(path) as f:\n",
    "        x_train, labels_train = f['x_train'], f['y_train']\n",
    "        x_test, labels_test = f['x_test'], f['y_test']\n",
    "\n",
    "    np.random.seed(seed)\n",
    "    \n",
    "    indices = np.arange(len(x_train))\n",
    "    np.random.shuffle(indices)\n",
    "    x_train = x_train[indices]\n",
    "    labels_train = labels_train[indices]\n",
    "    \n",
    "    indices = np.arange(len(x_test))\n",
    "    np.random.shuffle(indices)\n",
    "    x_test = x_test[indices]\n",
    "    labels_test = labels_test[indices]\n",
    "    \n",
    "    xs = np.concatenate([x_train, x_test])\n",
    "    labels = np.concatenate([labels_train, labels_test])\n",
    "    \n",
    "    if not num_words:\n",
    "        num_words = max([max(x) for x in xs])\n",
    "\n",
    "    xs = [[w for w in x if skip_top <= w < num_words] for x in xs]\n",
    "    \n",
    "    idx = len(x_train)\n",
    "    x_train, y_train = np.array(xs[:idx]), np.array(labels[:idx])\n",
    "    x_test, y_test = np.array(xs[idx:]), np.array(labels[idx:])\n",
    "    \n",
    "    return (x_train, y_train), (x_test, y_test)"
   ]
  },
  {
   "cell_type": "code",
   "execution_count": 3,
   "metadata": {},
   "outputs": [
    {
     "name": "stderr",
     "output_type": "stream",
     "text": [
      "C:\\Users\\Panagiotis\\AppData\\Local\\Temp\\ipykernel_8344\\886784336.py:27: VisibleDeprecationWarning: Creating an ndarray from ragged nested sequences (which is a list-or-tuple of lists-or-tuples-or ndarrays with different lengths or shapes) is deprecated. If you meant to do this, you must specify 'dtype=object' when creating the ndarray.\n",
      "  x_train, y_train = np.array(xs[:idx]), np.array(labels[:idx])\n",
      "C:\\Users\\Panagiotis\\AppData\\Local\\Temp\\ipykernel_8344\\886784336.py:28: VisibleDeprecationWarning: Creating an ndarray from ragged nested sequences (which is a list-or-tuple of lists-or-tuples-or ndarrays with different lengths or shapes) is deprecated. If you meant to do this, you must specify 'dtype=object' when creating the ndarray.\n",
      "  x_test, y_test = np.array(xs[idx:]), np.array(labels[idx:])\n"
     ]
    }
   ],
   "source": [
    "from functools import partial\n",
    "\n",
    "# save np.load\n",
    "np_load_old = partial(np.load)\n",
    "\n",
    "# modify the default parameters of np.load\n",
    "np.load = lambda *a,**k: np_load_old(*a, allow_pickle=True, **k)\n",
    "(train_data, train_labels), (test_data, test_labels) = load_data('./imdb.npz', num_words=10000)\n",
    "np.load = np_load_old\n"
   ]
  },
  {
   "cell_type": "code",
   "execution_count": 4,
   "metadata": {},
   "outputs": [
    {
     "name": "stdout",
     "output_type": "stream",
     "text": [
      "(25000, 10000)\n",
      "[0. 1. 1. ... 0. 0. 0.]\n"
     ]
    }
   ],
   "source": [
    "def vectorize_sequences(sequences, dimension=10000):\n",
    "    # creates an all-zero matrix of shape (len(sequences), dimension)\n",
    "    results = np.zeros((len(sequences), dimension), dtype=np.float32)\n",
    "    for i, sequence in enumerate(sequences):\n",
    "#         print(i, sequence)\n",
    "        results[i, sequence] = 1. # set specific indices of results[i] to be 1s (float)\n",
    "    return results\n",
    "\n",
    "train_data = vectorize_sequences(train_data)\n",
    "test_data = vectorize_sequences(test_data)\n",
    "\n",
    "print(train_data.shape) # length is same as before\n",
    "print(train_data[0]) # now, multi-hot encode\n",
    "\n",
    "# vectorize the labels as well and reshape from (N, ) to (N, 1)\n",
    "train_labels = np.reshape(np.asarray(train_labels, dtype=np.float32), (len(train_data), 1))\n",
    "test_labels = np.reshape(np.asarray(test_labels, dtype=np.float32), (len(test_data), 1))"
   ]
  },
  {
   "cell_type": "code",
   "execution_count": 6,
   "metadata": {},
   "outputs": [
    {
     "name": "stdout",
     "output_type": "stream",
     "text": [
      "Model: \"sequential_1\"\n",
      "_________________________________________________________________\n",
      " Layer (type)                Output Shape              Param #   \n",
      "=================================================================\n",
      " dense_3 (Dense)             (None, 16)                160016    \n",
      "                                                                 \n",
      " dense_4 (Dense)             (None, 16)                272       \n",
      "                                                                 \n",
      " dense_5 (Dense)             (None, 1)                 17        \n",
      "                                                                 \n",
      "=================================================================\n",
      "Total params: 160,305\n",
      "Trainable params: 160,305\n",
      "Non-trainable params: 0\n",
      "_________________________________________________________________\n"
     ]
    }
   ],
   "source": [
    "model = tf.keras.Sequential()\n",
    "\n",
    "# input shape here is the length of our movie review vector\n",
    "model.add(tf.keras.layers.Dense(16, activation=tf.nn.relu, input_shape=(10000, )))\n",
    "model.add(tf.keras.layers.Dense(16, activation=tf.nn.relu))\n",
    "model.add(tf.keras.layers.Dense(1, activation=tf.nn.sigmoid))\n",
    "\n",
    "# optimizer = tf.train.RMSPropOptimizer(learning_rate=0.001)\n",
    "model.compile(loss='binary_crossentropy', optimizer='nadam', metrics=['binary_accuracy'])\n",
    "\n",
    "model.summary()"
   ]
  },
  {
   "cell_type": "code",
   "execution_count": 7,
   "metadata": {},
   "outputs": [],
   "source": [
    "VAL_SIZE = 10000\n",
    "\n",
    "val_data = train_data[:VAL_SIZE]\n",
    "partial_train_data = train_data[VAL_SIZE:]\n",
    "\n",
    "val_labels = train_labels[:VAL_SIZE]\n",
    "partial_train_labels = train_labels[VAL_SIZE:]"
   ]
  },
  {
   "cell_type": "code",
   "execution_count": 12,
   "metadata": {},
   "outputs": [],
   "source": [
    "BATCH_SIZE = 512\n",
    "SHUFFLE_SIZE = 1000\n",
    "\n",
    "training_set = tf.data.Dataset.from_tensor_slices((partial_train_data, partial_train_labels))\n",
    "training_set = training_set.shuffle(SHUFFLE_SIZE).batch(BATCH_SIZE)\n",
    "val_set = tf.data.Dataset.from_tensor_slices((val_data, val_labels))"
   ]
  },
  {
   "cell_type": "code",
   "execution_count": 9,
   "metadata": {},
   "outputs": [
    {
     "name": "stdout",
     "output_type": "stream",
     "text": [
      "313/313 [==============================] - 1s 1ms/step - loss: 0.4328 - binary_accuracy: 0.8524\n",
      "EPOCH 1\t Training Loss: 0.43\t Training Accuracy: 0.86\t Validation Loss: 0.43\t Validation Accuracy: 0.85\n",
      "313/313 [==============================] - 0s 1ms/step - loss: 0.3090 - binary_accuracy: 0.8847\n",
      "EPOCH 2\t Training Loss: 0.28\t Training Accuracy: 0.90\t Validation Loss: 0.31\t Validation Accuracy: 0.88\n",
      "313/313 [==============================] - 0s 1ms/step - loss: 0.2796 - binary_accuracy: 0.8909\n",
      "EPOCH 3\t Training Loss: 0.21\t Training Accuracy: 0.92\t Validation Loss: 0.28\t Validation Accuracy: 0.89\n",
      "313/313 [==============================] - 0s 1ms/step - loss: 0.2800 - binary_accuracy: 0.8900\n",
      "EPOCH 4\t Training Loss: 0.16\t Training Accuracy: 0.96\t Validation Loss: 0.28\t Validation Accuracy: 0.89\n",
      "313/313 [==============================] - 0s 1ms/step - loss: 0.2918 - binary_accuracy: 0.8874\n",
      "EPOCH 5\t Training Loss: 0.11\t Training Accuracy: 0.97\t Validation Loss: 0.29\t Validation Accuracy: 0.89\n",
      "313/313 [==============================] - 0s 1ms/step - loss: 0.3110 - binary_accuracy: 0.8858\n",
      "EPOCH 6\t Training Loss: 0.05\t Training Accuracy: 1.00\t Validation Loss: 0.31\t Validation Accuracy: 0.89\n",
      "313/313 [==============================] - 0s 1ms/step - loss: 0.3360 - binary_accuracy: 0.8825\n",
      "EPOCH 7\t Training Loss: 0.06\t Training Accuracy: 1.00\t Validation Loss: 0.34\t Validation Accuracy: 0.88\n",
      "313/313 [==============================] - 0s 1ms/step - loss: 0.3610 - binary_accuracy: 0.8777\n",
      "EPOCH 8\t Training Loss: 0.03\t Training Accuracy: 1.00\t Validation Loss: 0.36\t Validation Accuracy: 0.88\n",
      "313/313 [==============================] - 0s 1ms/step - loss: 0.3885 - binary_accuracy: 0.8774\n",
      "EPOCH 9\t Training Loss: 0.03\t Training Accuracy: 0.99\t Validation Loss: 0.39\t Validation Accuracy: 0.88\n",
      "313/313 [==============================] - 0s 1ms/step - loss: 0.4218 - binary_accuracy: 0.8741\n",
      "EPOCH 10\t Training Loss: 0.04\t Training Accuracy: 0.99\t Validation Loss: 0.42\t Validation Accuracy: 0.87\n"
     ]
    }
   ],
   "source": [
    "EPOCHS = 10\n",
    "\n",
    "# store list of metric values for plotting later\n",
    "training_loss_list = []\n",
    "training_accuracy_list = []\n",
    "validation_loss_list = []\n",
    "validation_accuracy_list = []\n",
    "\n",
    "for epoch in range(EPOCHS):\n",
    "    for reviews, labels in training_set:\n",
    "        # calculate training loss and accuracy\n",
    "        training_loss, training_accuracy = model.train_on_batch(reviews, labels)\n",
    "        \n",
    "    # calculate validation loss and accuracy\n",
    "    validation_loss, validation_accuracy = model.evaluate(val_data, val_labels)\n",
    "    \n",
    "    # add to the lists\n",
    "    training_loss_list.append(training_loss)\n",
    "    training_accuracy_list.append(training_accuracy)\n",
    "    validation_loss_list.append(validation_loss)\n",
    "    validation_accuracy_list.append(validation_accuracy)\n",
    "    \n",
    "    print(('EPOCH %d\\t Training Loss: %.2f\\t Training Accuracy: %.2f\\t Validation Loss: %.2f\\t Validation Accuracy: %.2f') % (epoch + 1, training_loss, training_accuracy, validation_loss, validation_accuracy))"
   ]
  },
  {
   "cell_type": "code",
   "execution_count": 10,
   "metadata": {},
   "outputs": [
    {
     "data": {
      "image/png": "[encoded data removed]",
      "text/plain": [
       "<Figure size 640x480 with 1 Axes>"
      ]
     },
     "metadata": {},
     "output_type": "display_data"
    }
   ],
   "source": [
    "import matplotlib.pyplot as plt\n",
    "\n",
    "epochs = range(1, EPOCHS + 1)\n",
    "\n",
    "# \"bo\" specifies \"blue dot\"\n",
    "plt.plot(epochs, training_loss_list, 'bo', label='Training loss')\n",
    "# b spcifies \"solid blue line\"\n",
    "plt.plot(epochs, validation_loss_list, 'b', label='Validation loss')\n",
    "plt.title('Training and validation loss')\n",
    "plt.xlabel('Epochs')\n",
    "plt.ylabel('Loss')\n",
    "plt.legend()\n",
    "\n",
    "plt.show()"
   ]
  }
 ],
 "metadata": {
  "kernelspec": {
   "display_name": "homl-venv",
   "language": "python",
   "name": "python3"
  },
  "language_info": {
   "codemirror_mode": {
    "name": "ipython",
    "version": 3
   },
   "file_extension": ".py",
   "mimetype": "text/x-python",
   "name": "python",
   "nbconvert_exporter": "python",
   "pygments_lexer": "ipython3",
   "version": "3.11.2"
  },
  "orig_nbformat": 4
 },
 "nbformat": 4,
 "nbformat_minor": 2
}
