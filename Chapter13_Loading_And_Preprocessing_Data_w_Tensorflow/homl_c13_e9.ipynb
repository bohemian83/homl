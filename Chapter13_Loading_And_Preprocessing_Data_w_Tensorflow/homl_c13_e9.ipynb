{
 "cells": [
  {
   "cell_type": "code",
   "execution_count": 145,
   "metadata": {},
   "outputs": [],
   "source": [
    "import pandas as pd\n",
    "import tensorflow as tf\n",
    "import matplotlib.pyplot as plt\n",
    "from pathlib import Path\n",
    "import numpy as np"
   ]
  },
  {
   "cell_type": "code",
   "execution_count": 146,
   "metadata": {},
   "outputs": [
    {
     "data": {
      "text/plain": [
       "<matplotlib.image.AxesImage at 0x2b327e2ca90>"
      ]
     },
     "execution_count": 146,
     "metadata": {},
     "output_type": "execute_result"
    },
    {
     "data": {
      "image/png": "[encoded data removed]",
      "text/plain": [
       "<Figure size 200x200 with 1 Axes>"
      ]
     },
     "metadata": {},
     "output_type": "display_data"
    }
   ],
   "source": [
    "(X_train_full, y_train_full), (X_test, y_test) = tf.keras.datasets.fashion_mnist.load_data()\n",
    "X_val, X_train = X_train_full[:5000], X_train_full[5000:]\n",
    "y_val, y_train = y_train_full[:5000], y_train_full[5000:]\n",
    "\n",
    "plt.figure(figsize=(2,2))\n",
    "plt.imshow(X_train[0], cmap='binary' )"
   ]
  },
  {
   "cell_type": "code",
   "execution_count": 147,
   "metadata": {},
   "outputs": [],
   "source": [
    "train_dataset = tf.data.Dataset.from_tensor_slices((X_train, y_train))\n",
    "train_dataset = train_dataset.shuffle(len(X_train))\n",
    "val_dataset = tf.data.Dataset.from_tensor_slices((X_val, y_val))\n",
    "test_dataset = tf.data.Dataset.from_tensor_slices((X_test, y_test))"
   ]
  },
  {
   "cell_type": "code",
   "execution_count": 150,
   "metadata": {},
   "outputs": [],
   "source": [
    "from tensorflow.train import BytesList, Int64List\n",
    "from tensorflow.train import Example, Features, Feature\n",
    "from contextlib import ExitStack\n",
    "import os\n",
    "\n",
    "def create_single_image(image, label):\n",
    "  raw_image = tf.io.serialize_tensor(image)\n",
    "  \n",
    "  example = Example(\n",
    "    features=Features(\n",
    "      feature = {\n",
    "        \"image\": Feature(bytes_list=BytesList(value=[raw_image.numpy()])),\n",
    "        \"label\": Feature(int64_list=Int64List(value=[label])),\n",
    "      }\n",
    "    )\n",
    "  )\n",
    "          \n",
    "  return example \n",
    "\n",
    "def write_tfrecords(name, dataset, n_shards=25):\n",
    "  paths = [\"{}.tfrecord-{:05d}-of-{:05d}\".format(name, index, n_shards) for index in range(1, n_shards + 1)]\n",
    "  \n",
    "  with ExitStack() as stack:\n",
    "      writers = [stack.enter_context(tf.io.TFRecordWriter(path)) for path in paths]\n",
    "      \n",
    "      for index, (image, label) in dataset.enumerate():\n",
    "          shard = index % n_shards\n",
    "          example = create_single_image(image, label)\n",
    "          writers[shard].write(example.SerializeToString())\n",
    "  \n",
    "  return paths\n",
    "  \n",
    "def parse_tfrecord(tfrecord):\n",
    "  data = {\n",
    "      'image': tf.io.FixedLenFeature([], tf.string, default_value=\"\"),\n",
    "      'label':tf.io.FixedLenFeature([], tf.int64, default_value=-1),\n",
    "  }\n",
    "   \n",
    "  example = tf.io.parse_single_example(tfrecord, data)\n",
    "  image = tf.io.parse_tensor(example['image'], out_type=tf.uint8)\n",
    "  image = tf.reshape(image, shape=[28,28])\n",
    "  \n",
    "  return image, example['label']\n",
    "\n",
    "def get_dataset(pattern, n_read_threads=5, shuffle_buffer_size=None, n_parse_threads=5, batch_size=32, cache=True):\n",
    "  files = [Path(file) for file in os.listdir() if pattern in file]\n",
    "  dataset = tf.data.TFRecordDataset(files, num_parallel_reads=n_read_threads)\n",
    "  \n",
    "  if cache:\n",
    "      dataset = dataset.cache()\n",
    "  if shuffle_buffer_size:\n",
    "      dataset = dataset.shuffle(shuffle_buffer_size)\n",
    "      \n",
    "  dataset = dataset.map(parse_tfrecord, num_parallel_calls=n_parse_threads)\n",
    "  dataset = dataset.batch(batch_size)\n",
    "  \n",
    "  return dataset.prefetch(1)"
   ]
  },
  {
   "cell_type": "code",
   "execution_count": 151,
   "metadata": {},
   "outputs": [],
   "source": [
    "train_filepaths = write_tfrecords(\"my_fashion_mnist.train\", train_dataset)\n",
    "valid_filepaths = write_tfrecords(\"my_fashion_mnist.valid\", val_dataset)\n",
    "test_filepaths = write_tfrecords(\"my_fashion_mnist.test\", test_dataset)"
   ]
  },
  {
   "cell_type": "code",
   "execution_count": 152,
   "metadata": {},
   "outputs": [],
   "source": [
    "train_dataset = get_dataset(pattern = 'train.tfrecord', shuffle_buffer_size=60000)\n",
    "val_dataset = get_dataset(pattern = 'test.tfrecord')\n",
    "test_dataset = get_dataset(pattern = 'valid.tfrecord')"
   ]
  },
  {
   "cell_type": "code",
   "execution_count": 153,
   "metadata": {},
   "outputs": [
    {
     "data": {
      "text/plain": [
       "<_TakeDataset element_spec=(TensorSpec(shape=(None, 28, 28), dtype=tf.uint8, name=None), TensorSpec(shape=(None,), dtype=tf.int64, name=None))>"
      ]
     },
     "execution_count": 153,
     "metadata": {},
     "output_type": "execute_result"
    }
   ],
   "source": [
    "train_dataset.take(1)"
   ]
  },
  {
   "cell_type": "code",
   "execution_count": 157,
   "metadata": {},
   "outputs": [
    {
     "data": {
      "image/png": "[encoded data removed]",
      "text/plain": [
       "<Figure size 640x480 with 5 Axes>"
      ]
     },
     "metadata": {},
     "output_type": "display_data"
    }
   ],
   "source": [
    "for (X, y) in train_dataset.take(1):\n",
    "    for i in range(5):\n",
    "        plt.subplot(1, 5, i + 1)\n",
    "        plt.imshow(X[i].numpy(), cmap=\"binary\")\n",
    "        plt.axis(\"off\")\n",
    "        plt.title(str(y[i].numpy()))"
   ]
  },
  {
   "cell_type": "code",
   "execution_count": 167,
   "metadata": {},
   "outputs": [],
   "source": [
    "normalization_layer = tf.keras.layers.Normalization(input_shape=[28, 28])\n",
    "\n",
    "sample_image_batches = train_dataset.take(100).map(lambda image, label: image)\n",
    "sample_images = np.concatenate(list(sample_image_batches.as_numpy_iterator()), axis=0).astype(np.float32)\n",
    "normalization_layer.adapt(sample_images)\n",
    "\n",
    "model = tf.keras.Sequential([\n",
    "    normalization_layer,\n",
    "    tf.keras.layers.Flatten(),\n",
    "    tf.keras.layers.Dense(100, activation=\"relu\"),\n",
    "    tf.keras.layers.Dense(10, activation=\"softmax\")\n",
    "])\n",
    "\n",
    "model.compile(loss=\"sparse_categorical_crossentropy\", optimizer=\"nadam\", metrics=[\"accuracy\"])"
   ]
  },
  {
   "cell_type": "code",
   "execution_count": 172,
   "metadata": {},
   "outputs": [
    {
     "name": "stdout",
     "output_type": "stream",
     "text": [
      "Epoch 1/5\n",
      "1719/1719 [==============================] - 3s 2ms/step - loss: 0.2396 - accuracy: 0.9123 - val_loss: 0.3595 - val_accuracy: 0.8800\n",
      "Epoch 2/5\n",
      "1719/1719 [==============================] - 3s 2ms/step - loss: 0.2249 - accuracy: 0.9159 - val_loss: 0.3773 - val_accuracy: 0.8771\n",
      "Epoch 3/5\n",
      "1719/1719 [==============================] - 3s 2ms/step - loss: 0.2106 - accuracy: 0.9210 - val_loss: 0.3758 - val_accuracy: 0.8764\n",
      "Epoch 4/5\n",
      "1719/1719 [==============================] - 3s 2ms/step - loss: 0.2008 - accuracy: 0.9253 - val_loss: 0.3640 - val_accuracy: 0.8823\n",
      "Epoch 5/5\n",
      "1719/1719 [==============================] - 3s 2ms/step - loss: 0.1879 - accuracy: 0.9283 - val_loss: 0.3920 - val_accuracy: 0.8794\n"
     ]
    },
    {
     "data": {
      "text/plain": [
       "<keras.callbacks.History at 0x2b396ee8a50>"
      ]
     },
     "execution_count": 172,
     "metadata": {},
     "output_type": "execute_result"
    }
   ],
   "source": [
    "from datetime import datetime\n",
    "\n",
    "logs = Path() / \"my_log\" / \"run_\" / datetime.now().strftime(\"%Y%m%d_%H%M%S\")\n",
    "\n",
    "tensorboard_cb = tf.keras.callbacks.TensorBoard(log_dir=logs, histogram_freq=1, profile_batch=10)\n",
    "\n",
    "model.fit(train_dataset, epochs=5, validation_data=val_dataset, callbacks=[tensorboard_cb])"
   ]
  },
  {
   "cell_type": "code",
   "execution_count": 173,
   "metadata": {},
   "outputs": [
    {
     "data": {
      "text/html": [
       "\n",
       "      <iframe id=\"tensorboard-frame-4296f9467f1aedae\" width=\"100%\" height=\"800\" frameborder=\"0\">\n",
       "      </iframe>\n",
       "      <script>\n",
       "        (function() {\n",
       "          const frame = document.getElementById(\"tensorboard-frame-4296f9467f1aedae\");\n",
       "          const url = new URL(\"http://localhost\");\n",
       "          const port = 6006;\n",
       "          if (port) {\n",
       "            url.port = port;\n",
       "          }\n",
       "          frame.src = url;\n",
       "        })();\n",
       "      </script>\n",
       "    "
      ],
      "text/plain": [
       "<IPython.core.display.HTML object>"
      ]
     },
     "metadata": {},
     "output_type": "display_data"
    }
   ],
   "source": [
    "%load_ext tensorboard\n",
    "%tensorboard --logdir=\"./my_log\""
   ]
  }
 ],
 "metadata": {
  "kernelspec": {
   "display_name": "homl-venv",
   "language": "python",
   "name": "python3"
  },
  "language_info": {
   "codemirror_mode": {
    "name": "ipython",
    "version": 3
   },
   "file_extension": ".py",
   "mimetype": "text/x-python",
   "name": "python",
   "nbconvert_exporter": "python",
   "pygments_lexer": "ipython3",
   "version": "3.11.2"
  },
  "orig_nbformat": 4
 },
 "nbformat": 4,
 "nbformat_minor": 2
}
