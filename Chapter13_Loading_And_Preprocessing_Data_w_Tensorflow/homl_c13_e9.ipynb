{
 "cells": [
  {
   "cell_type": "code",
   "execution_count": 47,
   "metadata": {},
   "outputs": [],
   "source": [
    "import pandas as pd\n",
    "import tensorflow as tf\n",
    "import matplotlib.pyplot as plt\n",
    "from pathlib import Path\n",
    "import numpy as np"
   ]
  },
  {
   "cell_type": "code",
   "execution_count": 48,
   "metadata": {},
   "outputs": [
    {
     "data": {
      "text/plain": [
       "<matplotlib.image.AxesImage at 0x2b3231b8fd0>"
      ]
     },
     "execution_count": 48,
     "metadata": {},
     "output_type": "execute_result"
    },
    {
     "data": {
      "image/png": "[encoded data removed]",
      "text/plain": [
       "<Figure size 200x200 with 1 Axes>"
      ]
     },
     "metadata": {},
     "output_type": "display_data"
    }
   ],
   "source": [
    "(X_train_full, y_train_full), (X_test, y_test) = tf.keras.datasets.fashion_mnist.load_data()\n",
    "X_train, y_train = X_train_full[:-5000], y_train_full[:-5000]\n",
    "X_val, y_val = X_train_full[-5000:], y_train_full[-5000:]\n",
    "X_train, X_val, X_test = X_train/255., X_val/255., X_test/255.\n",
    "\n",
    "X_train[0]\n",
    "\n",
    "plt.figure(figsize=(2,2))\n",
    "plt.imshow(X_train[0], cmap='binary' )"
   ]
  },
  {
   "cell_type": "code",
   "execution_count": 49,
   "metadata": {},
   "outputs": [],
   "source": [
    "train_dataset = tf.data.Dataset.from_tensor_slices((X_train, y_train))\n",
    "train_dataset = train_dataset.shuffle(len(X_train))\n",
    "val_dataset = tf.data.Dataset.from_tensor_slices((X_val, y_val))\n",
    "test_dataset = tf.data.Dataset.from_tensor_slices((X_test, y_test))"
   ]
  },
  {
   "cell_type": "code",
   "execution_count": 64,
   "metadata": {},
   "outputs": [],
   "source": [
    "from tensorflow.train import BytesList, Int64List\n",
    "from tensorflow.train import Example, Features, Feature\n",
    "from contextlib import ExitStack\n",
    "import os\n",
    "\n",
    "def parse_single_image(image, label):\n",
    "  \n",
    "    raw_image = tf.io.serialize_tensor(image)\n",
    "    \n",
    "    example = Example(\n",
    "      features=Features(\n",
    "        feature = {\n",
    "          \"image\": Feature(bytes_list=BytesList(value=[raw_image.numpy()])),\n",
    "          \"label\": Feature(int64_list=Int64List(value=[label]))\n",
    "        }\n",
    "      )\n",
    "    )\n",
    "            \n",
    "    return example\n",
    "  \n",
    "\n",
    "def write_tfrecords(name, dataset, n_shards=25):\n",
    "    paths = [\"{}.tfrecord-{:05d}-of-{:05d}\".format(name, index, n_shards) for index in range(1, n_shards + 1)]\n",
    "    \n",
    "    with ExitStack() as stack:\n",
    "        writers = [stack.enter_context(tf.io.TFRecordWriter(path)) for path in paths]\n",
    "        \n",
    "        for index, (image, label) in dataset.enumerate():\n",
    "            shard = index % n_shards\n",
    "            example = parse_single_image(image, label)\n",
    "            writers[shard].write(example.SerializeToString())\n",
    "    \n",
    "    return paths\n",
    "  \n",
    "def get_dataset(pattern):\n",
    "  files = [file for file in os.listdir() if pattern in file]\n",
    "  \n",
    "  dataset = tf.data.TFRecordDataset(files)\n",
    "  \n",
    "  return dataset"
   ]
  },
  {
   "cell_type": "code",
   "execution_count": 63,
   "metadata": {},
   "outputs": [],
   "source": [
    "train_filepaths = write_tfrecords(\"my_fashion_mnist.train\", train_dataset)\n",
    "valid_filepaths = write_tfrecords(\"my_fashion_mnist.valid\", val_dataset)\n",
    "test_filepaths = write_tfrecords(\"my_fashion_mnist.test\", test_dataset)"
   ]
  },
  {
   "cell_type": "code",
   "execution_count": 60,
   "metadata": {},
   "outputs": [
    {
     "name": "stdout",
     "output_type": "stream",
     "text": [
      "['my_fashion_mnist.test.tfrecord-00000-of-00025', 'my_fashion_mnist.test.tfrecord-00001-of-00025', 'my_fashion_mnist.test.tfrecord-00002-of-00025', 'my_fashion_mnist.test.tfrecord-00003-of-00025', 'my_fashion_mnist.test.tfrecord-00004-of-00025', 'my_fashion_mnist.test.tfrecord-00005-of-00025', 'my_fashion_mnist.test.tfrecord-00006-of-00025', 'my_fashion_mnist.test.tfrecord-00007-of-00025', 'my_fashion_mnist.test.tfrecord-00008-of-00025', 'my_fashion_mnist.test.tfrecord-00009-of-00025', 'my_fashion_mnist.test.tfrecord-00010-of-00025', 'my_fashion_mnist.test.tfrecord-00011-of-00025', 'my_fashion_mnist.test.tfrecord-00012-of-00025', 'my_fashion_mnist.test.tfrecord-00013-of-00025', 'my_fashion_mnist.test.tfrecord-00014-of-00025', 'my_fashion_mnist.test.tfrecord-00015-of-00025', 'my_fashion_mnist.test.tfrecord-00016-of-00025', 'my_fashion_mnist.test.tfrecord-00017-of-00025', 'my_fashion_mnist.test.tfrecord-00018-of-00025', 'my_fashion_mnist.test.tfrecord-00019-of-00025', 'my_fashion_mnist.test.tfrecord-00020-of-00025', 'my_fashion_mnist.test.tfrecord-00021-of-00025', 'my_fashion_mnist.test.tfrecord-00022-of-00025', 'my_fashion_mnist.test.tfrecord-00023-of-00025', 'my_fashion_mnist.test.tfrecord-00024-of-00025']\n"
     ]
    }
   ],
   "source": [
    "test_tfrecord = get_dataset(\"test.tfrecord\")"
   ]
  }
 ],
 "metadata": {
  "kernelspec": {
   "display_name": "homl-venv",
   "language": "python",
   "name": "python3"
  },
  "language_info": {
   "codemirror_mode": {
    "name": "ipython",
    "version": 3
   },
   "file_extension": ".py",
   "mimetype": "text/x-python",
   "name": "python",
   "nbconvert_exporter": "python",
   "pygments_lexer": "ipython3",
   "version": "3.11.2"
  },
  "orig_nbformat": 4
 },
 "nbformat": 4,
 "nbformat_minor": 2
}
