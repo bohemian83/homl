{
 "cells": [
  {
   "cell_type": "code",
   "execution_count": null,
   "metadata": {},
   "outputs": [
    {
     "name": "stderr",
     "output_type": "stream",
     "text": [
      "/Users/pgrigorakis/Documents/HOML/homl-venv/lib/python3.9/site-packages/sklearn/datasets/_openml.py:968: FutureWarning: The default value of `parser` will change from `'liac-arff'` to `'auto'` in 1.4. You can set `parser='auto'` to silence this warning. Therefore, an `ImportError` will be raised from 1.4 if the dataset is dense and pandas is not installed. Note that the pandas parser may return different data types. See the Notes Section in fetch_openml's API doc for details.\n",
      "  warn(\n"
     ]
    }
   ],
   "source": [
    "import pandas as pd\n",
    "import matplotlib.pyplot as plt\n",
    "import sklearn\n",
    "import numpy as np\n",
    "\n",
    "plt.rc('font', size=14)\n",
    "plt.rc('axes', labelsize=14, titlesize=14)\n",
    "plt.rc('legend', fontsize=14)\n",
    "plt.rc('xtick', labelsize=10)\n",
    "plt.rc('ytick', labelsize=10)\n",
    "\n",
    "from sklearn.datasets import fetch_openml\n",
    "mnist = fetch_openml('mnist_784', as_frame=False)\n",
    "X, y = mnist.data, mnist.target\n",
    "X_train, X_test, y_train, y_test =  X[:60000], X[60000:], y[:60000], y[60000:]"
   ]
  },
  {
   "cell_type": "code",
   "execution_count": 5,
   "metadata": {},
   "outputs": [],
   "source": [
    "from scipy.ndimage import shift\n",
    "\n",
    "def plot_digit(image_data):\n",
    "    image = image_data.reshape(28,28)\n",
    "    plt.imshow(image, cmap=\"binary\")\n",
    "    plt.axis(\"off\")\n",
    "\n",
    "def shift_image(image, x_pixel, y_pixel):\n",
    "    image = np.reshape(image, (28, 28))\n",
    "    shifted_images = np.empty((28,28))\n",
    "    shifted_images = shift(image, [x_pixel, y_pixel], cval=0, mode=\"constant\")\n",
    "    return shifted_images.reshape([-1])\n",
    "\n",
    "X_train_new = [image for image in X_train]\n",
    "y_train_new = [label for label in y_train]\n",
    "\n",
    "for x_pixel, y_pixel in ((0, 1), (0, -1), (1, 0), (-1, 0)):\n",
    "    for image, label in zip(X_train, y_train):\n",
    "        X_train_new.append(shift_image(image, x_pixel, y_pixel))\n",
    "        y_train_new.append(label)\n",
    "        \n",
    "X_train_new = np.array(X_train_new)\n",
    "y_train_new = np.array(y_train_new)\n",
    "shuffled_indices = np.random.permutation(len(X_train_new))\n",
    "X_train_new = X_train_new[shuffled_indices]\n",
    "y_train_new = y_train_new[shuffled_indices]"
   ]
  },
  {
   "cell_type": "code",
   "execution_count": 6,
   "metadata": {},
   "outputs": [
    {
     "data": {
      "text/plain": [
       "0.9763"
      ]
     },
     "execution_count": 6,
     "metadata": {},
     "output_type": "execute_result"
    }
   ],
   "source": [
    "from sklearn.neighbors import KNeighborsClassifier\n",
    "\n",
    "knn_best_params = KNeighborsClassifier(n_neighbors=4, weights=\"distance\")\n",
    "knn_best_params.fit(X_train_new, y_train_new)\n",
    "knn_best_params.score(X_test, y_test)"
   ]
  }
 ],
 "metadata": {
  "kernelspec": {
   "display_name": "homl-venv",
   "language": "python",
   "name": "python3"
  },
  "language_info": {
   "codemirror_mode": {
    "name": "ipython",
    "version": 3
   },
   "file_extension": ".py",
   "mimetype": "text/x-python",
   "name": "python",
   "nbconvert_exporter": "python",
   "pygments_lexer": "ipython3",
   "version": "3.9.9"
  },
  "orig_nbformat": 4
 },
 "nbformat": 4,
 "nbformat_minor": 2
}
