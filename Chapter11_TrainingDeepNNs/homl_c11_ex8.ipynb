{
 "cells": [
  {
   "cell_type": "code",
   "execution_count": 1,
   "metadata": {},
   "outputs": [
    {
     "data": {
      "text/plain": [
       "<matplotlib.image.AxesImage at 0x232e3975f90>"
      ]
     },
     "execution_count": 1,
     "metadata": {},
     "output_type": "execute_result"
    },
    {
     "data": {
      "image/png": "[encoded data removed]",
      "text/plain": [
       "<Figure size 200x200 with 1 Axes>"
      ]
     },
     "metadata": {},
     "output_type": "display_data"
    }
   ],
   "source": [
    "import pandas as pd\n",
    "import tensorflow as tf\n",
    "import matplotlib.pyplot as plt\n",
    "\n",
    "(X_train_full, y_train_full), (X_test, y_test) = tf.keras.datasets.cifar10.load_data()\n",
    "X_train, y_train = X_train_full[:-5000], y_train_full[:-5000]\n",
    "X_val, y_val = X_train_full[-5000:], y_train_full[-5000:]\n",
    "X_train, X_val, X_test = X_train/255., X_val/255., X_test/255.\n",
    "\n",
    "X_train[0]\n",
    "\n",
    "plt.figure(figsize=(2,2))\n",
    "plt.imshow(X_train[0], cmap='binary' )"
   ]
  },
  {
   "cell_type": "code",
   "execution_count": 13,
   "metadata": {},
   "outputs": [
    {
     "name": "stdout",
     "output_type": "stream",
     "text": [
      "Model: \"sequential\"\n",
      "_________________________________________________________________\n",
      " Layer (type)                Output Shape              Param #   \n",
      "=================================================================\n",
      " flatten (Flatten)           (None, 3072)              0         \n",
      "                                                                 \n",
      " dense (Dense)               (None, 100)               307300    \n",
      "                                                                 \n",
      " dense_1 (Dense)             (None, 100)               10100     \n",
      "                                                                 \n",
      " dense_2 (Dense)             (None, 100)               10100     \n",
      "                                                                 \n",
      " dense_3 (Dense)             (None, 100)               10100     \n",
      "                                                                 \n",
      " dense_4 (Dense)             (None, 100)               10100     \n",
      "                                                                 \n",
      " dense_5 (Dense)             (None, 100)               10100     \n",
      "                                                                 \n",
      " dense_6 (Dense)             (None, 100)               10100     \n",
      "                                                                 \n",
      " dense_7 (Dense)             (None, 100)               10100     \n",
      "                                                                 \n",
      " dense_8 (Dense)             (None, 100)               10100     \n",
      "                                                                 \n",
      " dense_9 (Dense)             (None, 100)               10100     \n",
      "                                                                 \n",
      " dense_10 (Dense)            (None, 100)               10100     \n",
      "                                                                 \n",
      " dense_11 (Dense)            (None, 100)               10100     \n",
      "                                                                 \n",
      " dense_12 (Dense)            (None, 100)               10100     \n",
      "                                                                 \n",
      " dense_13 (Dense)            (None, 100)               10100     \n",
      "                                                                 \n",
      " dense_14 (Dense)            (None, 100)               10100     \n",
      "                                                                 \n",
      " dense_15 (Dense)            (None, 100)               10100     \n",
      "                                                                 \n",
      " dense_16 (Dense)            (None, 100)               10100     \n",
      "                                                                 \n",
      " dense_17 (Dense)            (None, 100)               10100     \n",
      "                                                                 \n",
      " dense_18 (Dense)            (None, 100)               10100     \n",
      "                                                                 \n",
      " dense_19 (Dense)            (None, 100)               10100     \n",
      "                                                                 \n",
      " dense_20 (Dense)            (None, 10)                1010      \n",
      "                                                                 \n",
      "=================================================================\n",
      "Total params: 500,210\n",
      "Trainable params: 500,210\n",
      "Non-trainable params: 0\n",
      "_________________________________________________________________\n"
     ]
    }
   ],
   "source": [
    "# Define model\n",
    "tf.keras.backend.clear_session()\n",
    "model = tf.keras.Sequential()\n",
    "model.add(tf.keras.layers.Flatten(input_shape=[32,32, 3]))\n",
    "for index in range(1, 21):\n",
    "    model.add(tf.keras.layers.Dense(100, activation=\"swish\", kernel_initializer='he_normal'))\n",
    "model.add(tf.keras.layers.Dense(10, activation=\"softmax\"))\n",
    "model.summary()"
   ]
  },
  {
   "cell_type": "code",
   "execution_count": 23,
   "metadata": {},
   "outputs": [],
   "source": [
    "# Find optimal learning rate with Tensorboard\n",
    "from pathlib import Path\n",
    "      \n",
    "optimizer = tf.keras.optimizers.Nadam(learning_rate=1e-5)\n",
    "model.compile(loss='sparse_categorical_crossentropy', optimizer=optimizer, metrics=['accuracy'])\n",
    "\n",
    "run_index = 6 # increment every time you train the model\n",
    "run_logdir = Path() / \"my_cifar10_logs\" / f\"run_{run_index:03d}\"\n",
    "tensorboard_cb = tf.keras.callbacks.TensorBoard(run_logdir)"
   ]
  },
  {
   "cell_type": "code",
   "execution_count": 4,
   "metadata": {},
   "outputs": [
    {
     "data": {
      "text/html": [
       "\n",
       "      <iframe id=\"tensorboard-frame-e23e8f50ceda529c\" width=\"100%\" height=\"800\" frameborder=\"0\">\n",
       "      </iframe>\n",
       "      <script>\n",
       "        (function() {\n",
       "          const frame = document.getElementById(\"tensorboard-frame-e23e8f50ceda529c\");\n",
       "          const url = new URL(\"http://localhost\");\n",
       "          const port = 6006;\n",
       "          if (port) {\n",
       "            url.port = port;\n",
       "          }\n",
       "          frame.src = url;\n",
       "        })();\n",
       "      </script>\n",
       "    "
      ],
      "text/plain": [
       "<IPython.core.display.HTML object>"
      ]
     },
     "metadata": {},
     "output_type": "display_data"
    }
   ],
   "source": [
    "%load_ext tensorboard\n",
    "%tensorboard --logdir=./my_cifar10_log"
   ]
  },
  {
   "cell_type": "code",
   "execution_count": 24,
   "metadata": {},
   "outputs": [
    {
     "name": "stdout",
     "output_type": "stream",
     "text": [
      "Epoch 1/10\n",
      "1407/1407 [==============================] - 18s 10ms/step - loss: 1.0112 - accuracy: 0.6431 - val_loss: 1.4308 - val_accuracy: 0.5260\n",
      "Epoch 2/10\n",
      "1407/1407 [==============================] - 12s 9ms/step - loss: 1.0068 - accuracy: 0.6452 - val_loss: 1.4338 - val_accuracy: 0.5274\n",
      "Epoch 3/10\n",
      "1407/1407 [==============================] - 13s 9ms/step - loss: 1.0041 - accuracy: 0.6459 - val_loss: 1.4399 - val_accuracy: 0.5244\n",
      "Epoch 4/10\n",
      "1407/1407 [==============================] - 13s 9ms/step - loss: 1.0018 - accuracy: 0.6474 - val_loss: 1.4424 - val_accuracy: 0.5260\n",
      "Epoch 5/10\n",
      "1407/1407 [==============================] - 13s 9ms/step - loss: 0.9992 - accuracy: 0.6484 - val_loss: 1.4446 - val_accuracy: 0.5274\n",
      "Epoch 6/10\n",
      "1407/1407 [==============================] - 12s 9ms/step - loss: 0.9967 - accuracy: 0.6492 - val_loss: 1.4469 - val_accuracy: 0.5232\n",
      "Epoch 7/10\n",
      "1407/1407 [==============================] - 13s 9ms/step - loss: 0.9943 - accuracy: 0.6486 - val_loss: 1.4451 - val_accuracy: 0.5252\n",
      "Epoch 8/10\n",
      "1407/1407 [==============================] - 13s 9ms/step - loss: 0.9922 - accuracy: 0.6506 - val_loss: 1.4507 - val_accuracy: 0.5278\n",
      "Epoch 9/10\n",
      "1407/1407 [==============================] - 13s 9ms/step - loss: 0.9898 - accuracy: 0.6506 - val_loss: 1.4546 - val_accuracy: 0.5248\n",
      "Epoch 10/10\n",
      "1407/1407 [==============================] - 13s 9ms/step - loss: 0.9872 - accuracy: 0.6522 - val_loss: 1.4525 - val_accuracy: 0.5258\n"
     ]
    }
   ],
   "source": [
    "history = model.fit(X_train, y_train, epochs=10, validation_data=(X_val, y_val), callbacks=[tensorboard_cb])"
   ]
  },
  {
   "cell_type": "code",
   "execution_count": 25,
   "metadata": {},
   "outputs": [],
   "source": [
    "# Use optimal learning rate to train model wirh Nadam optimizer and early stopping\n",
    "\n",
    "from pathlib import Path\n",
    "\n",
    "tf.keras.backend.clear_session()\n",
    "optimizer = tf.keras.optimizers.Nadam(learning_rate=5e-5)\n",
    "model.compile(loss='sparse_categorical_crossentropy', optimizer=optimizer, metrics=['accuracy'])\n",
    "\n",
    "early_stopping_cb = tf.keras.callbacks.EarlyStopping(patience=20, restore_best_weights=True)\n",
    "model_checkpoint_cb = tf.keras.callbacks.ModelCheckpoint(\"my_cifar10_model\", save_best_only=True)\n",
    "\n",
    "run_index = 7 # increment every time you train the model\n",
    "run_logdir = Path() / \"my_cifar10_logs\" / f\"run_{run_index:03d}\"\n",
    "tensorboard_cb = tf.keras.callbacks.TensorBoard(run_logdir)\n",
    "callbacks = [early_stopping_cb, model_checkpoint_cb, tensorboard_cb]"
   ]
  },
  {
   "cell_type": "code",
   "execution_count": 26,
   "metadata": {},
   "outputs": [
    {
     "name": "stdout",
     "output_type": "stream",
     "text": [
      "Epoch 1/30\n",
      "1403/1407 [============================>.] - ETA: 0s - loss: 1.0010 - accuracy: 0.6468"
     ]
    },
    {
     "name": "stderr",
     "output_type": "stream",
     "text": [
      "WARNING:absl:Found untraced functions such as _update_step_xla while saving (showing 1 of 1). These functions will not be directly callable after loading.\n"
     ]
    },
    {
     "name": "stdout",
     "output_type": "stream",
     "text": [
      "INFO:tensorflow:Assets written to: my_cifar10_model\\assets\n"
     ]
    },
    {
     "name": "stderr",
     "output_type": "stream",
     "text": [
      "INFO:tensorflow:Assets written to: my_cifar10_model\\assets\n"
     ]
    },
    {
     "name": "stdout",
     "output_type": "stream",
     "text": [
      "1407/1407 [==============================] - 24s 14ms/step - loss: 1.0012 - accuracy: 0.6466 - val_loss: 1.4656 - val_accuracy: 0.5216\n",
      "Epoch 2/30\n",
      "1407/1407 [==============================] - ETA: 0s - loss: 0.9912 - accuracy: 0.6504"
     ]
    },
    {
     "name": "stderr",
     "output_type": "stream",
     "text": [
      "WARNING:absl:Found untraced functions such as _update_step_xla while saving (showing 1 of 1). These functions will not be directly callable after loading.\n"
     ]
    },
    {
     "name": "stdout",
     "output_type": "stream",
     "text": [
      "INFO:tensorflow:Assets written to: my_cifar10_model\\assets\n"
     ]
    },
    {
     "name": "stderr",
     "output_type": "stream",
     "text": [
      "INFO:tensorflow:Assets written to: my_cifar10_model\\assets\n"
     ]
    },
    {
     "name": "stdout",
     "output_type": "stream",
     "text": [
      "1407/1407 [==============================] - 17s 12ms/step - loss: 0.9912 - accuracy: 0.6504 - val_loss: 1.4650 - val_accuracy: 0.5256\n",
      "Epoch 3/30\n",
      "1407/1407 [==============================] - 14s 10ms/step - loss: 0.9818 - accuracy: 0.6524 - val_loss: 1.4662 - val_accuracy: 0.5256\n",
      "Epoch 4/30\n",
      "1407/1407 [==============================] - 14s 10ms/step - loss: 0.9726 - accuracy: 0.6568 - val_loss: 1.4827 - val_accuracy: 0.5248\n",
      "Epoch 5/30\n",
      "1407/1407 [==============================] - 14s 10ms/step - loss: 0.9608 - accuracy: 0.6610 - val_loss: 1.4971 - val_accuracy: 0.5238\n",
      "Epoch 6/30\n",
      "1407/1407 [==============================] - 14s 10ms/step - loss: 0.9517 - accuracy: 0.6638 - val_loss: 1.5078 - val_accuracy: 0.5208\n",
      "Epoch 7/30\n",
      "1407/1407 [==============================] - 14s 10ms/step - loss: 0.9404 - accuracy: 0.6692 - val_loss: 1.5131 - val_accuracy: 0.5162\n",
      "Epoch 8/30\n",
      "1407/1407 [==============================] - 14s 10ms/step - loss: 0.9309 - accuracy: 0.6712 - val_loss: 1.5244 - val_accuracy: 0.5190\n",
      "Epoch 9/30\n",
      "1407/1407 [==============================] - 14s 10ms/step - loss: 0.9206 - accuracy: 0.6753 - val_loss: 1.5290 - val_accuracy: 0.5182\n",
      "Epoch 10/30\n",
      "1407/1407 [==============================] - 14s 10ms/step - loss: 0.9096 - accuracy: 0.6785 - val_loss: 1.5454 - val_accuracy: 0.5160\n",
      "Epoch 11/30\n",
      "1407/1407 [==============================] - 14s 10ms/step - loss: 0.8997 - accuracy: 0.6821 - val_loss: 1.5493 - val_accuracy: 0.5188\n",
      "Epoch 12/30\n",
      "1407/1407 [==============================] - 14s 10ms/step - loss: 0.8888 - accuracy: 0.6855 - val_loss: 1.5810 - val_accuracy: 0.5162\n",
      "Epoch 13/30\n",
      "1407/1407 [==============================] - 14s 10ms/step - loss: 0.8784 - accuracy: 0.6907 - val_loss: 1.5964 - val_accuracy: 0.5154\n",
      "Epoch 14/30\n",
      "1407/1407 [==============================] - 14s 10ms/step - loss: 0.8675 - accuracy: 0.6966 - val_loss: 1.6005 - val_accuracy: 0.5146\n",
      "Epoch 15/30\n",
      "1407/1407 [==============================] - 14s 10ms/step - loss: 0.8573 - accuracy: 0.6992 - val_loss: 1.6179 - val_accuracy: 0.5146\n",
      "Epoch 16/30\n",
      "1407/1407 [==============================] - 14s 10ms/step - loss: 0.8468 - accuracy: 0.7038 - val_loss: 1.6383 - val_accuracy: 0.5092\n",
      "Epoch 17/30\n",
      "1407/1407 [==============================] - 14s 10ms/step - loss: 0.8354 - accuracy: 0.7082 - val_loss: 1.6592 - val_accuracy: 0.5080\n",
      "Epoch 18/30\n",
      "1407/1407 [==============================] - 14s 10ms/step - loss: 0.8246 - accuracy: 0.7108 - val_loss: 1.6785 - val_accuracy: 0.5118\n",
      "Epoch 19/30\n",
      "1407/1407 [==============================] - 15s 10ms/step - loss: 0.8138 - accuracy: 0.7162 - val_loss: 1.6975 - val_accuracy: 0.5038\n",
      "Epoch 20/30\n",
      "1407/1407 [==============================] - 14s 10ms/step - loss: 0.8028 - accuracy: 0.7201 - val_loss: 1.7358 - val_accuracy: 0.5048\n",
      "Epoch 21/30\n",
      "1407/1407 [==============================] - 14s 10ms/step - loss: 0.7924 - accuracy: 0.7238 - val_loss: 1.7389 - val_accuracy: 0.5068\n",
      "Epoch 22/30\n",
      "1407/1407 [==============================] - 14s 10ms/step - loss: 0.7796 - accuracy: 0.7299 - val_loss: 1.7555 - val_accuracy: 0.5024\n"
     ]
    }
   ],
   "source": [
    "# Run model\n",
    "history = model.fit(X_train, y_train, epochs=30, validation_data=(X_val, y_val), callbacks=callbacks)"
   ]
  },
  {
   "cell_type": "code",
   "execution_count": 27,
   "metadata": {},
   "outputs": [
    {
     "name": "stdout",
     "output_type": "stream",
     "text": [
      "157/157 [==============================] - 0s 2ms/step - loss: 1.4650 - accuracy: 0.5256\n"
     ]
    },
    {
     "data": {
      "text/plain": [
       "[1.4649752378463745, 0.525600016117096]"
      ]
     },
     "execution_count": 27,
     "metadata": {},
     "output_type": "execute_result"
    }
   ],
   "source": [
    "#Evaluate model on validation set\n",
    "model.evaluate(X_val, y_val)"
   ]
  },
  {
   "cell_type": "code",
   "execution_count": 29,
   "metadata": {},
   "outputs": [
    {
     "name": "stdout",
     "output_type": "stream",
     "text": [
      "Model: \"sequential\"\n",
      "_________________________________________________________________\n",
      " Layer (type)                Output Shape              Param #   \n",
      "=================================================================\n",
      " flatten (Flatten)           (None, 3072)              0         \n",
      "                                                                 \n",
      " dense (Dense)               (None, 100)               307200    \n",
      "                                                                 \n",
      " batch_normalization (BatchN  (None, 100)              400       \n",
      " ormalization)                                                   \n",
      "                                                                 \n",
      " activation (Activation)     (None, 100)               0         \n",
      "                                                                 \n",
      " dense_1 (Dense)             (None, 100)               10000     \n",
      "                                                                 \n",
      " batch_normalization_1 (Batc  (None, 100)              400       \n",
      " hNormalization)                                                 \n",
      "                                                                 \n",
      " activation_1 (Activation)   (None, 100)               0         \n",
      "                                                                 \n",
      " dense_2 (Dense)             (None, 100)               10000     \n",
      "                                                                 \n",
      " batch_normalization_2 (Batc  (None, 100)              400       \n",
      " hNormalization)                                                 \n",
      "                                                                 \n",
      " activation_2 (Activation)   (None, 100)               0         \n",
      "                                                                 \n",
      " dense_3 (Dense)             (None, 100)               10000     \n",
      "                                                                 \n",
      " batch_normalization_3 (Batc  (None, 100)              400       \n",
      " hNormalization)                                                 \n",
      "                                                                 \n",
      " activation_3 (Activation)   (None, 100)               0         \n",
      "                                                                 \n",
      " dense_4 (Dense)             (None, 100)               10000     \n",
      "                                                                 \n",
      " batch_normalization_4 (Batc  (None, 100)              400       \n",
      " hNormalization)                                                 \n",
      "                                                                 \n",
      " activation_4 (Activation)   (None, 100)               0         \n",
      "                                                                 \n",
      " dense_5 (Dense)             (None, 100)               10000     \n",
      "                                                                 \n",
      " batch_normalization_5 (Batc  (None, 100)              400       \n",
      " hNormalization)                                                 \n",
      "                                                                 \n",
      " activation_5 (Activation)   (None, 100)               0         \n",
      "                                                                 \n",
      " dense_6 (Dense)             (None, 100)               10000     \n",
      "                                                                 \n",
      " batch_normalization_6 (Batc  (None, 100)              400       \n",
      " hNormalization)                                                 \n",
      "                                                                 \n",
      " activation_6 (Activation)   (None, 100)               0         \n",
      "                                                                 \n",
      " dense_7 (Dense)             (None, 100)               10000     \n",
      "                                                                 \n",
      " batch_normalization_7 (Batc  (None, 100)              400       \n",
      " hNormalization)                                                 \n",
      "                                                                 \n",
      " activation_7 (Activation)   (None, 100)               0         \n",
      "                                                                 \n",
      " dense_8 (Dense)             (None, 100)               10000     \n",
      "                                                                 \n",
      " batch_normalization_8 (Batc  (None, 100)              400       \n",
      " hNormalization)                                                 \n",
      "                                                                 \n",
      " activation_8 (Activation)   (None, 100)               0         \n",
      "                                                                 \n",
      " dense_9 (Dense)             (None, 100)               10000     \n",
      "                                                                 \n",
      " batch_normalization_9 (Batc  (None, 100)              400       \n",
      " hNormalization)                                                 \n",
      "                                                                 \n",
      " activation_9 (Activation)   (None, 100)               0         \n",
      "                                                                 \n",
      " dense_10 (Dense)            (None, 100)               10000     \n",
      "                                                                 \n",
      " batch_normalization_10 (Bat  (None, 100)              400       \n",
      " chNormalization)                                                \n",
      "                                                                 \n",
      " activation_10 (Activation)  (None, 100)               0         \n",
      "                                                                 \n",
      " dense_11 (Dense)            (None, 100)               10000     \n",
      "                                                                 \n",
      " batch_normalization_11 (Bat  (None, 100)              400       \n",
      " chNormalization)                                                \n",
      "                                                                 \n",
      " activation_11 (Activation)  (None, 100)               0         \n",
      "                                                                 \n",
      " dense_12 (Dense)            (None, 100)               10000     \n",
      "                                                                 \n",
      " batch_normalization_12 (Bat  (None, 100)              400       \n",
      " chNormalization)                                                \n",
      "                                                                 \n",
      " activation_12 (Activation)  (None, 100)               0         \n",
      "                                                                 \n",
      " dense_13 (Dense)            (None, 100)               10000     \n",
      "                                                                 \n",
      " batch_normalization_13 (Bat  (None, 100)              400       \n",
      " chNormalization)                                                \n",
      "                                                                 \n",
      " activation_13 (Activation)  (None, 100)               0         \n",
      "                                                                 \n",
      " dense_14 (Dense)            (None, 100)               10000     \n",
      "                                                                 \n",
      " batch_normalization_14 (Bat  (None, 100)              400       \n",
      " chNormalization)                                                \n",
      "                                                                 \n",
      " activation_14 (Activation)  (None, 100)               0         \n",
      "                                                                 \n",
      " dense_15 (Dense)            (None, 100)               10000     \n",
      "                                                                 \n",
      " batch_normalization_15 (Bat  (None, 100)              400       \n",
      " chNormalization)                                                \n",
      "                                                                 \n",
      " activation_15 (Activation)  (None, 100)               0         \n",
      "                                                                 \n",
      " dense_16 (Dense)            (None, 100)               10000     \n",
      "                                                                 \n",
      " batch_normalization_16 (Bat  (None, 100)              400       \n",
      " chNormalization)                                                \n",
      "                                                                 \n",
      " activation_16 (Activation)  (None, 100)               0         \n",
      "                                                                 \n",
      " dense_17 (Dense)            (None, 100)               10000     \n",
      "                                                                 \n",
      " batch_normalization_17 (Bat  (None, 100)              400       \n",
      " chNormalization)                                                \n",
      "                                                                 \n",
      " activation_17 (Activation)  (None, 100)               0         \n",
      "                                                                 \n",
      " dense_18 (Dense)            (None, 100)               10000     \n",
      "                                                                 \n",
      " batch_normalization_18 (Bat  (None, 100)              400       \n",
      " chNormalization)                                                \n",
      "                                                                 \n",
      " activation_18 (Activation)  (None, 100)               0         \n",
      "                                                                 \n",
      " dense_19 (Dense)            (None, 100)               10000     \n",
      "                                                                 \n",
      " batch_normalization_19 (Bat  (None, 100)              400       \n",
      " chNormalization)                                                \n",
      "                                                                 \n",
      " activation_19 (Activation)  (None, 100)               0         \n",
      "                                                                 \n",
      " dense_20 (Dense)            (None, 10)                1010      \n",
      "                                                                 \n",
      "=================================================================\n",
      "Total params: 506,210\n",
      "Trainable params: 502,210\n",
      "Non-trainable params: 4,000\n",
      "_________________________________________________________________\n"
     ]
    }
   ],
   "source": [
    "# Add batch normalisation to previous model\n",
    "\n",
    "tf.keras.backend.clear_session()\n",
    "model = tf.keras.Sequential()\n",
    "model.add(tf.keras.layers.Flatten(input_shape=[32,32, 3]))\n",
    "for index in range(1, 21):\n",
    "    model.add(tf.keras.layers.Dense(100, kernel_initializer='he_normal', use_bias=False))\n",
    "    model.add(tf.keras.layers.BatchNormalization())\n",
    "    model.add(tf.keras.layers.Activation('swish'))\n",
    "model.add(tf.keras.layers.Dense(10, activation=\"softmax\"))\n",
    "model.summary()"
   ]
  },
  {
   "cell_type": "code",
   "execution_count": 38,
   "metadata": {},
   "outputs": [],
   "source": [
    "# Find batch normalisation optimal rate with Tensorboard\n",
    "# runs = 1:1e-5, 2:3e-5, 3:5e-5, 4:1e-4, 5:3e-4\n",
    "        \n",
    "optimizer = tf.keras.optimizers.Nadam(learning_rate=3e-4)\n",
    "model.compile(loss='sparse_categorical_crossentropy', optimizer=optimizer, metrics=['accuracy'])\n",
    "\n",
    "run_index = 5 # increment every time you train the model\n",
    "run_logdir = Path() / \"my_cifar10_bn_logs\" / f\"run_{run_index:03d}\"\n",
    "tensorboard_cb = tf.keras.callbacks.TensorBoard(run_logdir)\n"
   ]
  },
  {
   "cell_type": "code",
   "execution_count": 39,
   "metadata": {},
   "outputs": [
    {
     "name": "stdout",
     "output_type": "stream",
     "text": [
      "Epoch 1/15\n",
      "1407/1407 [==============================] - 26s 12ms/step - loss: 1.3012 - accuracy: 0.5405 - val_loss: 1.7156 - val_accuracy: 0.4222\n",
      "Epoch 2/15\n",
      "1407/1407 [==============================] - 16s 12ms/step - loss: 1.2903 - accuracy: 0.5444 - val_loss: 1.9018 - val_accuracy: 0.3862\n",
      "Epoch 3/15\n",
      "1407/1407 [==============================] - 16s 12ms/step - loss: 1.2636 - accuracy: 0.5560 - val_loss: 1.5384 - val_accuracy: 0.4688\n",
      "Epoch 4/15\n",
      "1407/1407 [==============================] - 16s 11ms/step - loss: 1.2439 - accuracy: 0.5623 - val_loss: 1.6206 - val_accuracy: 0.4444\n",
      "Epoch 5/15\n",
      "1407/1407 [==============================] - 16s 11ms/step - loss: 1.2214 - accuracy: 0.5726 - val_loss: 1.6403 - val_accuracy: 0.4384\n",
      "Epoch 6/15\n",
      "1407/1407 [==============================] - 16s 11ms/step - loss: 1.2112 - accuracy: 0.5744 - val_loss: 1.6423 - val_accuracy: 0.4392\n",
      "Epoch 7/15\n",
      "1407/1407 [==============================] - 16s 12ms/step - loss: 1.1897 - accuracy: 0.5787 - val_loss: 2.0025 - val_accuracy: 0.3662\n",
      "Epoch 8/15\n",
      "1407/1407 [==============================] - 16s 11ms/step - loss: 1.1666 - accuracy: 0.5882 - val_loss: 1.6864 - val_accuracy: 0.4366\n",
      "Epoch 9/15\n",
      "1407/1407 [==============================] - 16s 11ms/step - loss: 1.1465 - accuracy: 0.5976 - val_loss: 1.6599 - val_accuracy: 0.4352\n",
      "Epoch 10/15\n",
      "1407/1407 [==============================] - 16s 12ms/step - loss: 1.1358 - accuracy: 0.6030 - val_loss: 1.5265 - val_accuracy: 0.4766\n",
      "Epoch 11/15\n",
      "1407/1407 [==============================] - 16s 11ms/step - loss: 1.1188 - accuracy: 0.6051 - val_loss: 1.5737 - val_accuracy: 0.4616\n",
      "Epoch 12/15\n",
      "1407/1407 [==============================] - 16s 11ms/step - loss: 1.1046 - accuracy: 0.6102 - val_loss: 1.8949 - val_accuracy: 0.4112\n",
      "Epoch 13/15\n",
      "1407/1407 [==============================] - 17s 12ms/step - loss: 1.0853 - accuracy: 0.6169 - val_loss: 1.6229 - val_accuracy: 0.4448\n",
      "Epoch 14/15\n",
      "1407/1407 [==============================] - 17s 12ms/step - loss: 1.0753 - accuracy: 0.6198 - val_loss: 1.4717 - val_accuracy: 0.4988\n",
      "Epoch 15/15\n",
      "1407/1407 [==============================] - 17s 12ms/step - loss: 1.0646 - accuracy: 0.6233 - val_loss: 1.7567 - val_accuracy: 0.4210\n"
     ]
    }
   ],
   "source": [
    "# Run model\n",
    "history = model.fit(X_train, y_train, epochs=15, validation_data=(X_val, y_val), callbacks=[tensorboard_cb])"
   ]
  },
  {
   "cell_type": "code",
   "execution_count": 41,
   "metadata": {},
   "outputs": [
    {
     "name": "stdout",
     "output_type": "stream",
     "text": [
      "Epoch 1/100\n",
      "1407/1407 [==============================] - ETA: 0s - loss: 0.8467 - accuracy: 0.7020"
     ]
    },
    {
     "name": "stderr",
     "output_type": "stream",
     "text": [
      "WARNING:absl:Found untraced functions such as _update_step_xla while saving (showing 1 of 1). These functions will not be directly callable after loading.\n"
     ]
    },
    {
     "name": "stdout",
     "output_type": "stream",
     "text": [
      "INFO:tensorflow:Assets written to: my_cifar10_bn_model\\assets\n"
     ]
    },
    {
     "name": "stderr",
     "output_type": "stream",
     "text": [
      "INFO:tensorflow:Assets written to: my_cifar10_bn_model\\assets\n"
     ]
    },
    {
     "name": "stdout",
     "output_type": "stream",
     "text": [
      "1407/1407 [==============================] - 34s 18ms/step - loss: 0.8467 - accuracy: 0.7020 - val_loss: 1.4063 - val_accuracy: 0.5348\n",
      "Epoch 2/100\n",
      "1407/1407 [==============================] - 17s 12ms/step - loss: 0.8379 - accuracy: 0.7040 - val_loss: 1.4522 - val_accuracy: 0.5282\n",
      "Epoch 3/100\n",
      "1407/1407 [==============================] - 17s 12ms/step - loss: 0.8317 - accuracy: 0.7077 - val_loss: 1.4536 - val_accuracy: 0.5232\n",
      "Epoch 4/100\n",
      "1407/1407 [==============================] - 17s 12ms/step - loss: 0.8297 - accuracy: 0.7090 - val_loss: 1.4389 - val_accuracy: 0.5298\n",
      "Epoch 5/100\n",
      "1407/1407 [==============================] - 17s 12ms/step - loss: 0.8236 - accuracy: 0.7075 - val_loss: 1.4290 - val_accuracy: 0.5336\n",
      "Epoch 6/100\n",
      "1407/1407 [==============================] - 17s 12ms/step - loss: 0.8244 - accuracy: 0.7069 - val_loss: 1.4581 - val_accuracy: 0.5272\n",
      "Epoch 7/100\n",
      "1407/1407 [==============================] - 17s 12ms/step - loss: 0.8117 - accuracy: 0.7142 - val_loss: 1.4500 - val_accuracy: 0.5286\n",
      "Epoch 8/100\n",
      "1407/1407 [==============================] - 17s 12ms/step - loss: 0.8133 - accuracy: 0.7123 - val_loss: 1.4694 - val_accuracy: 0.5260\n",
      "Epoch 9/100\n",
      "1407/1407 [==============================] - 18s 12ms/step - loss: 0.8084 - accuracy: 0.7129 - val_loss: 1.4407 - val_accuracy: 0.5368\n",
      "Epoch 10/100\n",
      "1407/1407 [==============================] - 17s 12ms/step - loss: 0.8039 - accuracy: 0.7150 - val_loss: 1.4664 - val_accuracy: 0.5308\n",
      "Epoch 11/100\n",
      "1407/1407 [==============================] - 18s 12ms/step - loss: 0.7963 - accuracy: 0.7189 - val_loss: 1.4788 - val_accuracy: 0.5286\n",
      "Epoch 12/100\n",
      "1407/1407 [==============================] - 17s 12ms/step - loss: 0.7901 - accuracy: 0.7176 - val_loss: 1.4912 - val_accuracy: 0.5242\n",
      "Epoch 13/100\n",
      "1407/1407 [==============================] - 17s 12ms/step - loss: 0.7921 - accuracy: 0.7198 - val_loss: 1.4488 - val_accuracy: 0.5292\n",
      "Epoch 14/100\n",
      "1407/1407 [==============================] - 17s 12ms/step - loss: 0.7882 - accuracy: 0.7197 - val_loss: 1.4500 - val_accuracy: 0.5352\n",
      "Epoch 15/100\n",
      "1407/1407 [==============================] - 18s 12ms/step - loss: 0.7838 - accuracy: 0.7219 - val_loss: 1.4615 - val_accuracy: 0.5322\n",
      "Epoch 16/100\n",
      "1407/1407 [==============================] - 18s 13ms/step - loss: 0.7774 - accuracy: 0.7261 - val_loss: 1.4864 - val_accuracy: 0.5242\n",
      "Epoch 17/100\n",
      "1407/1407 [==============================] - 18s 13ms/step - loss: 0.7696 - accuracy: 0.7267 - val_loss: 1.4975 - val_accuracy: 0.5256\n",
      "Epoch 18/100\n",
      "1407/1407 [==============================] - 18s 13ms/step - loss: 0.7708 - accuracy: 0.7286 - val_loss: 1.5592 - val_accuracy: 0.5198\n",
      "Epoch 19/100\n",
      "1407/1407 [==============================] - 17s 12ms/step - loss: 0.7621 - accuracy: 0.7306 - val_loss: 1.4933 - val_accuracy: 0.5264\n",
      "Epoch 20/100\n",
      "1407/1407 [==============================] - 17s 12ms/step - loss: 0.7718 - accuracy: 0.7269 - val_loss: 1.4786 - val_accuracy: 0.5254\n",
      "Epoch 21/100\n",
      "1407/1407 [==============================] - 17s 12ms/step - loss: 0.7595 - accuracy: 0.7322 - val_loss: 1.5004 - val_accuracy: 0.5260\n"
     ]
    }
   ],
   "source": [
    "# Use optimal learning rate to train previous model with batch normalisation\n",
    "\n",
    "optimizer = tf.keras.optimizers.Nadam(learning_rate=5e-5)\n",
    "model.compile(loss='sparse_categorical_crossentropy', optimizer=optimizer, metrics=['accuracy'])\n",
    "\n",
    "run_index = 7 # increment every time you train the model\n",
    "run_logdir = Path() / \"my_cifar10_bn_logs\" / f\"run_{run_index:03d}\"\n",
    "tensorboard_cb = tf.keras.callbacks.TensorBoard(run_logdir)\n",
    "\n",
    "early_stopping_cb = tf.keras.callbacks.EarlyStopping(patience=20, restore_best_weights=True)\n",
    "model_checkpoint_cb = tf.keras.callbacks.ModelCheckpoint(\"my_cifar10_bn_model\", save_best_only=True)\n",
    "callbacks = [early_stopping_cb, model_checkpoint_cb, tensorboard_cb]\n",
    "\n",
    "history = model.fit(X_train, y_train, epochs=100, validation_data=(X_val, y_val), callbacks=callbacks)"
   ]
  },
  {
   "cell_type": "code",
   "execution_count": 42,
   "metadata": {},
   "outputs": [
    {
     "name": "stdout",
     "output_type": "stream",
     "text": [
      "157/157 [==============================] - 1s 3ms/step - loss: 1.4063 - accuracy: 0.5348\n"
     ]
    },
    {
     "data": {
      "text/plain": [
       "[1.4063448905944824, 0.5347999930381775]"
      ]
     },
     "execution_count": 42,
     "metadata": {},
     "output_type": "execute_result"
    }
   ],
   "source": [
    "model.evaluate(X_val, y_val)"
   ]
  }
 ],
 "metadata": {
  "kernelspec": {
   "display_name": "homl-venv",
   "language": "python",
   "name": "python3"
  },
  "language_info": {
   "codemirror_mode": {
    "name": "ipython",
    "version": 3
   },
   "file_extension": ".py",
   "mimetype": "text/x-python",
   "name": "python",
   "nbconvert_exporter": "python",
   "pygments_lexer": "ipython3",
   "version": "3.11.2"
  },
  "orig_nbformat": 4
 },
 "nbformat": 4,
 "nbformat_minor": 2
}
